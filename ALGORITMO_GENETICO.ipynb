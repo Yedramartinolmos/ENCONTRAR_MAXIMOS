{
  "cells": [
    {
      "cell_type": "markdown",
      "source": [
        "< GRUPO 7 >\n",
        "\n",
        "PILAR ARIAS, ÁLVARO GARCÍA CID, YEDRA MARTÍN, AMAYA SARASA"
      ],
      "metadata": {
        "id": "bqM6hltHrW_7"
      },
      "id": "bqM6hltHrW_7"
    },
    {
      "cell_type": "markdown",
      "source": [
        "# Instalamos la librería Deap"
      ],
      "metadata": {
        "id": "W5LzhuawrnTV"
      },
      "id": "W5LzhuawrnTV"
    },
    {
      "cell_type": "code",
      "source": [
        "!pip install deap"
      ],
      "metadata": {
        "id": "SrXm1Xi5r60l",
        "outputId": "ed757c76-ff93-4f19-8e36-9da19cf48b6c",
        "colab": {
          "base_uri": "https://localhost:8080/"
        }
      },
      "id": "SrXm1Xi5r60l",
      "execution_count": 52,
      "outputs": [
        {
          "output_type": "stream",
          "name": "stdout",
          "text": [
            "Looking in indexes: https://pypi.org/simple, https://us-python.pkg.dev/colab-wheels/public/simple/\n",
            "Requirement already satisfied: deap in /usr/local/lib/python3.8/dist-packages (1.3.3)\n",
            "Requirement already satisfied: numpy in /usr/local/lib/python3.8/dist-packages (from deap) (1.21.6)\n"
          ]
        }
      ]
    },
    {
      "cell_type": "code",
      "source": [
        "!pip install matplotlib"
      ],
      "metadata": {
        "id": "FPUK3ZCir9wv",
        "outputId": "d3a114fc-c578-4599-f8c2-2a57da8f3470",
        "colab": {
          "base_uri": "https://localhost:8080/"
        }
      },
      "id": "FPUK3ZCir9wv",
      "execution_count": 53,
      "outputs": [
        {
          "output_type": "stream",
          "name": "stdout",
          "text": [
            "Looking in indexes: https://pypi.org/simple, https://us-python.pkg.dev/colab-wheels/public/simple/\n",
            "Requirement already satisfied: matplotlib in /usr/local/lib/python3.8/dist-packages (3.2.2)\n",
            "Requirement already satisfied: cycler>=0.10 in /usr/local/lib/python3.8/dist-packages (from matplotlib) (0.11.0)\n",
            "Requirement already satisfied: python-dateutil>=2.1 in /usr/local/lib/python3.8/dist-packages (from matplotlib) (2.8.2)\n",
            "Requirement already satisfied: numpy>=1.11 in /usr/local/lib/python3.8/dist-packages (from matplotlib) (1.21.6)\n",
            "Requirement already satisfied: pyparsing!=2.0.4,!=2.1.2,!=2.1.6,>=2.0.1 in /usr/local/lib/python3.8/dist-packages (from matplotlib) (3.0.9)\n",
            "Requirement already satisfied: kiwisolver>=1.0.1 in /usr/local/lib/python3.8/dist-packages (from matplotlib) (1.4.4)\n",
            "Requirement already satisfied: six>=1.5 in /usr/local/lib/python3.8/dist-packages (from python-dateutil>=2.1->matplotlib) (1.15.0)\n"
          ]
        }
      ]
    },
    {
      "cell_type": "code",
      "source": [
        "!pip install numpy"
      ],
      "metadata": {
        "id": "9Kqo6jRPr9hm",
        "outputId": "ee2aabe4-98df-4741-e292-cb654ec4f78c",
        "colab": {
          "base_uri": "https://localhost:8080/"
        }
      },
      "id": "9Kqo6jRPr9hm",
      "execution_count": 54,
      "outputs": [
        {
          "output_type": "stream",
          "name": "stdout",
          "text": [
            "Looking in indexes: https://pypi.org/simple, https://us-python.pkg.dev/colab-wheels/public/simple/\n",
            "Requirement already satisfied: numpy in /usr/local/lib/python3.8/dist-packages (1.21.6)\n"
          ]
        }
      ]
    },
    {
      "cell_type": "code",
      "source": [
        "!pip install scipy"
      ],
      "metadata": {
        "id": "4URUag6-r9X7",
        "outputId": "134a01c2-4183-4ed6-b506-a375bd0fd42e",
        "colab": {
          "base_uri": "https://localhost:8080/"
        }
      },
      "id": "4URUag6-r9X7",
      "execution_count": 55,
      "outputs": [
        {
          "output_type": "stream",
          "name": "stdout",
          "text": [
            "Looking in indexes: https://pypi.org/simple, https://us-python.pkg.dev/colab-wheels/public/simple/\n",
            "Requirement already satisfied: scipy in /usr/local/lib/python3.8/dist-packages (1.7.3)\n",
            "Requirement already satisfied: numpy<1.23.0,>=1.16.5 in /usr/local/lib/python3.8/dist-packages (from scipy) (1.21.6)\n"
          ]
        }
      ]
    },
    {
      "cell_type": "code",
      "source": [
        "!pip install scoop"
      ],
      "metadata": {
        "id": "YF4OzDEUr9Bz",
        "outputId": "17965576-6dd8-45d6-a7df-f9e74ed80c20",
        "colab": {
          "base_uri": "https://localhost:8080/"
        }
      },
      "id": "YF4OzDEUr9Bz",
      "execution_count": 56,
      "outputs": [
        {
          "output_type": "stream",
          "name": "stdout",
          "text": [
            "Looking in indexes: https://pypi.org/simple, https://us-python.pkg.dev/colab-wheels/public/simple/\n",
            "Requirement already satisfied: scoop in /usr/local/lib/python3.8/dist-packages (0.7.2.0)\n",
            "Requirement already satisfied: pyzmq>=13.1.0 in /usr/local/lib/python3.8/dist-packages (from scoop) (23.2.1)\n",
            "Requirement already satisfied: greenlet>=0.3.4 in /usr/local/lib/python3.8/dist-packages (from scoop) (2.0.1)\n"
          ]
        }
      ]
    },
    {
      "cell_type": "code",
      "source": [
        "import random\n",
        "import math\n",
        "import numpy as np\n",
        "from deap import base\n",
        "from deap import creator\n",
        "from deap import tools\n",
        "from deap import algorithms\n",
        "import matplotlib.pyplot as plt"
      ],
      "metadata": {
        "id": "1PtCVirfsyoR"
      },
      "id": "1PtCVirfsyoR",
      "execution_count": 57,
      "outputs": []
    },
    {
      "cell_type": "code",
      "source": [
        "# Importamos la librería\n",
        "import random\n",
        "# Fijamos la semilla. Si no cambiamos la semilla, \n",
        "# la función generará los mismos número aleatorios\n",
        "random.seed(0)\n",
        "# Generamos los números pseudo-aleatorios en 2 list comprenhension\n",
        "# para encapsular todos los datos en las listas x e y\n",
        "x = [random.uniform(-100, 100) for i in range(10)]\n",
        "y = [random.uniform(-100, 100) for i in range(10)]\n",
        "print('x= ', x)\n",
        "print('y= ', y)"
      ],
      "metadata": {
        "id": "PvyIDU9Ks52C",
        "outputId": "c62cbbaa-b178-4c1b-a4b4-593c76ce612d",
        "colab": {
          "base_uri": "https://localhost:8080/"
        }
      },
      "id": "PvyIDU9Ks52C",
      "execution_count": 58,
      "outputs": [
        {
          "output_type": "stream",
          "name": "stdout",
          "text": [
            "x=  [68.88437030500961, 51.590880588060486, -15.885683833830996, -48.21664994140733, 2.254944273721705, -19.01317250991714, 56.75971780695451, -39.33745478421451, -4.680609169528836, 16.676407891006235]\n",
            "y=  [81.62257703906704, 0.9373711634780477, -43.63243112005924, 51.16084083144477, 23.67379933506632, -49.898731727511894, 81.94925119364802, 96.55709520753061, 62.04344719931791, 80.43319008791653]\n"
          ]
        }
      ]
    },
    {
      "cell_type": "code",
      "source": [
        "# Importamos las librerías necesarias\n",
        "import numpy as np\n",
        "import matplotlib.pyplot as plt\n",
        "from mpl_toolkits.mplot3d import Axes3D\n",
        "from matplotlib import cm"
      ],
      "metadata": {
        "id": "nI-rzigKtBBm"
      },
      "id": "nI-rzigKtBBm",
      "execution_count": 59,
      "outputs": []
    },
    {
      "cell_type": "markdown",
      "source": [
        "#Problema por resolver:"
      ],
      "metadata": {
        "id": "SznfbSERcymz"
      },
      "id": "SznfbSERcymz"
    },
    {
      "cell_type": "markdown",
      "source": [
        "Se desean Encontrar los **máximos** de la función \"picos\"\n",
        "\n",
        "$$z = f(x,y) = 3(1-x)^2e^{-(x^2)-(y+1)^2}-10(x/5-x^3-y^5)e^{-x^2-y^2}-1/3e^{-(x+1)^2-y^2}$$\n",
        "\n",
        "En el dominio $$\\{x,y\\} \\in [-100,100]$$"
      ],
      "metadata": {
        "id": "9mJ56kse_3zU"
      },
      "id": "9mJ56kse_3zU"
    },
    {
      "cell_type": "markdown",
      "source": [
        "Definimos la **función objetivo**\n",
        "\n",
        "Para poder introducir correctamente esta función, se ha partido en diferentes segmentos para su correcta ejecución."
      ],
      "metadata": {
        "id": "BOUW8MrFc67R"
      },
      "id": "BOUW8MrFc67R"
    },
    {
      "cell_type": "code",
      "source": [
        "# Definimos la función objetivo\n",
        "def funcion_prueba(x):\n",
        "    # x es x[0] e y es x[1]\n",
        "    res1 = (1-x[0])**2\n",
        "    res2 = np.exp(-(x[0]**2+(x[1]+1)**2))\n",
        "    res3 = x[0]/5-x[0]**3-x[1]**5\n",
        "    res4 = np.exp(-(x[0]**2)-(x[1]**2))\n",
        "    res5 = (1/3)*np.exp(-((x[0]+1)**2)-x[1]**2)\n",
        "    res = 3* res1 * res2 - 10 * res3 * res4 - res5\n",
        "    return res"
      ],
      "metadata": {
        "id": "8HgZMZFstByz"
      },
      "id": "8HgZMZFstByz",
      "execution_count": 60,
      "outputs": []
    },
    {
      "cell_type": "markdown",
      "source": [
        "Generamos vectores para comenzar la exploración del máximo de la función.\n",
        "\n",
        "Intentaremos ajustar los parámetros lo máximo posible entorno a los valores que sabemos contendrán los máximos de la función.\n",
        "\n",
        "Para ello usaremos la función ``linspace`` que crea secuencias de valores espaciados uniformemente dentro de un intervalo definido. Esencialmente, especifica un punto de inicio y un punto final de un intervalo, y luego especifica el número total de puntos de interrupción que desea dentro de ese intervalo (incluidos los puntos inicial y final).\n",
        "\n",
        "En este caso creamos una matriz de 1 000 números espaciados uniformemente en el intervalo [-5, 5]."
      ],
      "metadata": {
        "id": "mSQocxnGugcU"
      },
      "id": "mSQocxnGugcU"
    },
    {
      "cell_type": "code",
      "source": [
        "# Generamos vectores que barran todo el dominio\n",
        "x = np.linspace(-5, 5, 1000)\n",
        "y = np.linspace(-5, 5, 1000)\n",
        "# print('x= ', x)\n",
        "# print('y= ', y)"
      ],
      "metadata": {
        "id": "ui2WaUNVtGAh"
      },
      "id": "ui2WaUNVtGAh",
      "execution_count": 61,
      "outputs": []
    },
    {
      "cell_type": "markdown",
      "source": [
        "La función **numpy.meshgrid** devuelve dos matrices bidimensionales que representan las coordenadas X e Y de todos los puntos. "
      ],
      "metadata": {
        "id": "GOmcQkSICjXm"
      },
      "id": "GOmcQkSICjXm"
    },
    {
      "cell_type": "code",
      "source": [
        "# Evaluamos todos los valores de las variables\n",
        "x_ax, y_ax = np.meshgrid(x, y)\n",
        "print(\"x_ax = \")\n",
        "print(x_ax)\n",
        "print(\"y_ax = \")\n",
        "print(y_ax)       \n"
      ],
      "metadata": {
        "id": "KBByeSwCtJsI",
        "colab": {
          "base_uri": "https://localhost:8080/"
        },
        "outputId": "3425aeaa-17a0-4aa0-9092-1eef123e5a6c"
      },
      "id": "KBByeSwCtJsI",
      "execution_count": 62,
      "outputs": [
        {
          "output_type": "stream",
          "name": "stdout",
          "text": [
            "x_ax = \n",
            "[[-5.         -4.98998999 -4.97997998 ...  4.97997998  4.98998999\n",
            "   5.        ]\n",
            " [-5.         -4.98998999 -4.97997998 ...  4.97997998  4.98998999\n",
            "   5.        ]\n",
            " [-5.         -4.98998999 -4.97997998 ...  4.97997998  4.98998999\n",
            "   5.        ]\n",
            " ...\n",
            " [-5.         -4.98998999 -4.97997998 ...  4.97997998  4.98998999\n",
            "   5.        ]\n",
            " [-5.         -4.98998999 -4.97997998 ...  4.97997998  4.98998999\n",
            "   5.        ]\n",
            " [-5.         -4.98998999 -4.97997998 ...  4.97997998  4.98998999\n",
            "   5.        ]]\n",
            "y_ax = \n",
            "[[-5.         -5.         -5.         ... -5.         -5.\n",
            "  -5.        ]\n",
            " [-4.98998999 -4.98998999 -4.98998999 ... -4.98998999 -4.98998999\n",
            "  -4.98998999]\n",
            " [-4.97997998 -4.97997998 -4.97997998 ... -4.97997998 -4.97997998\n",
            "  -4.97997998]\n",
            " ...\n",
            " [ 4.97997998  4.97997998  4.97997998 ...  4.97997998  4.97997998\n",
            "   4.97997998]\n",
            " [ 4.98998999  4.98998999  4.98998999 ...  4.98998999  4.98998999\n",
            "   4.98998999]\n",
            " [ 5.          5.          5.         ...  5.          5.\n",
            "   5.        ]]\n"
          ]
        }
      ]
    },
    {
      "cell_type": "markdown",
      "source": [
        "**numpy.c_** Traslada objetos de división a concatenación a lo largo del segundo eje.\n",
        "\n",
        "**numpy.ravel** Devuelve una matriz 1-D aplanada contigua que contiene los elementos de la entrada. "
      ],
      "metadata": {
        "id": "Yp5KDxkzD4BY"
      },
      "id": "Yp5KDxkzD4BY"
    },
    {
      "cell_type": "code",
      "source": [
        "vals = np.c_[x_ax.ravel(), y_ax.ravel()]\n",
        "vals.shape"
      ],
      "metadata": {
        "colab": {
          "base_uri": "https://localhost:8080/"
        },
        "id": "frcId09LDqhP",
        "outputId": "8301173a-2373-489f-d7a0-be402f1e73f5"
      },
      "id": "frcId09LDqhP",
      "execution_count": 63,
      "outputs": [
        {
          "output_type": "execute_result",
          "data": {
            "text/plain": [
              "(1000000, 2)"
            ]
          },
          "metadata": {},
          "execution_count": 63
        }
      ]
    },
    {
      "cell_type": "markdown",
      "source": [
        "Hacemos que los valores tomen una forma distinta"
      ],
      "metadata": {
        "id": "Hha0wYlcD7pS"
      },
      "id": "Hha0wYlcD7pS"
    },
    {
      "cell_type": "code",
      "source": [
        "fx = np.reshape([funcion_prueba(val) for val in vals],(1000, 1000))\n",
        "fx.shape"
      ],
      "metadata": {
        "colab": {
          "base_uri": "https://localhost:8080/"
        },
        "id": "xN-VR9E7D9Wx",
        "outputId": "195ceac9-4625-4a6f-bdf2-fcd6d4c568ab"
      },
      "id": "xN-VR9E7D9Wx",
      "execution_count": 64,
      "outputs": [
        {
          "output_type": "execute_result",
          "data": {
            "text/plain": [
              "(1000, 1000)"
            ]
          },
          "metadata": {},
          "execution_count": 64
        }
      ]
    },
    {
      "cell_type": "markdown",
      "source": [
        "Representamos la función para orientarnos sobre dónde estará ese máximo global que se está buscando.\n",
        "\n",
        "**matplotlib.pyplot.figure** Crea una nueva gráfica o active una función existente."
      ],
      "metadata": {
        "id": "wBBCC0QBusFp"
      },
      "id": "wBBCC0QBusFp"
    },
    {
      "cell_type": "code",
      "source": [
        "# Representamos los resultados obtenidos\n",
        "figure_3d = plt.figure(figsize=(8,6)) # figsize determina el tamaño en pulgadas de la imagen\n",
        "ax = figure_3d.gca(projection=\"3d\")\n",
        "ax.plot_surface(x_ax, y_ax, fx, cmap=cm.coolwarm)\n",
        "ax.set_xlabel(\"x\")\n",
        "ax.set_ylabel(\"y\")\n",
        "ax.set_zlabel(\"f(x,y)\")"
      ],
      "metadata": {
        "id": "Y0IIzWmBtORg",
        "outputId": "d5971879-f324-4e8e-c6b2-eb6c7001e1f2",
        "colab": {
          "base_uri": "https://localhost:8080/",
          "height": 374
        }
      },
      "id": "Y0IIzWmBtORg",
      "execution_count": 65,
      "outputs": [
        {
          "output_type": "execute_result",
          "data": {
            "text/plain": [
              "Text(0.5, 0, 'f(x,y)')"
            ]
          },
          "metadata": {},
          "execution_count": 65
        },
        {
          "output_type": "display_data",
          "data": {
            "text/plain": [
              "<Figure size 576x432 with 1 Axes>"
            ],
            "image/png": "[encoded data removed]"
          },
          "metadata": {
            "needs_background": "light"
          }
        }
      ]
    },
    {
      "cell_type": "markdown",
      "source": [
        "#A continuación\n",
        "\n",
        "1. Definiremos el problema y generaremos la población inicial\n",
        "\n",
        "2. Veremos la función objetivo y los operadores genéticos\n",
        "\n",
        "3. Como configurar el algoritmo genético y la representación de los resultados del algoritmo.\n"
      ],
      "metadata": {
        "id": "-nZz2Ru9d1qN"
      },
      "id": "-nZz2Ru9d1qN"
    },
    {
      "cell_type": "markdown",
      "source": [
        "##Creación del problema "
      ],
      "metadata": {
        "id": "1kcwTU_OJFhc"
      },
      "id": "1kcwTU_OJFhc"
    },
    {
      "cell_type": "markdown",
      "source": [
        "Importamos las librerías necesarias"
      ],
      "metadata": {
        "id": "m6Ob6H60flf1"
      },
      "id": "m6Ob6H60flf1"
    },
    {
      "cell_type": "code",
      "source": [
        "import random\n",
        "from deap import base\n",
        "from deap import creator\n",
        "from deap import tools"
      ],
      "metadata": {
        "id": "5J0t2bUffh16"
      },
      "id": "5J0t2bUffh16",
      "execution_count": 66,
      "outputs": []
    },
    {
      "cell_type": "markdown",
      "source": [
        "\n",
        "Creamos una nueva clase llamada `name=FitnessMax`, que hereda de `base=base.Fitness` y que tiene un atributo llamado `attribute=weights=1.0` en nuestro caso puesto que nuestro único objetivo es la maximización. \n"
      ],
      "metadata": {
        "id": "7PJ41n0vJShs"
      },
      "id": "7PJ41n0vJShs"
    },
    {
      "cell_type": "code",
      "source": [
        "creator.create(\"FitnessMax\", base.Fitness, weights=(1.0,))"
      ],
      "metadata": {
        "id": "8WPY9O64tV3M",
        "colab": {
          "base_uri": "https://localhost:8080/"
        },
        "outputId": "2330223d-1178-48b4-ee67-06f26e5539c6"
      },
      "id": "8WPY9O64tV3M",
      "execution_count": 67,
      "outputs": [
        {
          "output_type": "stream",
          "name": "stderr",
          "text": [
            "/usr/local/lib/python3.8/dist-packages/deap/creator.py:138: RuntimeWarning: A class named 'FitnessMax' has already been created and it will be overwritten. Consider deleting previous creation of that class or rename it.\n",
            "  warnings.warn(\"A class named '{0}' has already been created and it \"\n"
          ]
        }
      ]
    },
    {
      "cell_type": "markdown",
      "source": [
        "###Creación de la plantilla del individuo "
      ],
      "metadata": {
        "id": "sdI8zS9lJyGr"
      },
      "id": "sdI8zS9lJyGr"
    },
    {
      "cell_type": "markdown",
      "source": [
        "Creamos el **tipo de individuo** y sus atributos. \n",
        "\n",
        "Simplemente al pensar en los diferentes tipos de algoritmos evolutivos (GA, GP, ES, PSO, DE, …), notamos que es posible una variedad extremadamente grande de individuos, por lo tanto nosotros mismos crearemos un individuo que satisfaga nuestros requerimiento usando el creador e inicializándolas usando una Caja de herramientas.\n",
        "\n",
        "Para producir el primer individuo, necesitamos crear una clase `Individual` usando el creador, heredado de ``list`` y tendrá el  atributo `fitness`"
      ],
      "metadata": {
        "id": "vmAXmQ4wJ7rC"
      },
      "id": "vmAXmQ4wJ7rC"
    },
    {
      "cell_type": "code",
      "source": [
        "creator.create(\"Individual\", list, fitness=creator.FitnessMax)"
      ],
      "metadata": {
        "id": "VtM1wdO6tZIX",
        "colab": {
          "base_uri": "https://localhost:8080/"
        },
        "outputId": "f2c6c991-7bf5-4b68-c51a-7b6d66487297"
      },
      "id": "VtM1wdO6tZIX",
      "execution_count": 68,
      "outputs": [
        {
          "output_type": "stream",
          "name": "stderr",
          "text": [
            "/usr/local/lib/python3.8/dist-packages/deap/creator.py:138: RuntimeWarning: A class named 'Individual' has already been created and it will be overwritten. Consider deleting previous creation of that class or rename it.\n",
            "  warnings.warn(\"A class named '{0}' has already been created and it \"\n"
          ]
        }
      ]
    },
    {
      "cell_type": "markdown",
      "source": [
        "### Creación de individuos aleatorios y población inicial"
      ],
      "metadata": {
        "id": "55zxuZQtKHbA"
      },
      "id": "55zxuZQtKHbA"
    },
    {
      "cell_type": "markdown",
      "source": [
        "Usaremos el `Toolbox` que contendrá, mediante \n",
        "**registro**, un conjunto de funciones utilizadas por el algoritmo durante \n",
        "su ejecución."
      ],
      "metadata": {
        "id": "F32XZHXQKEv0"
      },
      "id": "F32XZHXQKEv0"
    },
    {
      "cell_type": "code",
      "source": [
        "toolbox = base.Toolbox()"
      ],
      "metadata": {
        "id": "_P-erIC0tbn0"
      },
      "id": "_P-erIC0tbn0",
      "execution_count": 69,
      "outputs": []
    },
    {
      "cell_type": "markdown",
      "source": [
        "En el `Toolbox` registraremos funciones necesarias para ejecutar el AG."
      ],
      "metadata": {
        "id": "2e9Av3Y3KSEk"
      },
      "id": "2e9Av3Y3KSEk"
    },
    {
      "cell_type": "markdown",
      "source": [
        "Crearemos **individuos aleatorios** usando la función`random.uniform` que nos permita generar un valor aleatorio para cada variable independiente (cada gen del comosoma), esto es, cada una de las posiciones de la lista con valores sujetos a las restricciones de nuestro problema (-100, 100)"
      ],
      "metadata": {
        "id": "v6ARvC7sKVcn"
      },
      "id": "v6ARvC7sKVcn"
    },
    {
      "cell_type": "code",
      "source": [
        "# Generación de genes\n",
        "toolbox.register(\"attr_uniform\", random.uniform, -100, 100)"
      ],
      "metadata": {
        "id": "N0NKusuwtfOF"
      },
      "id": "N0NKusuwtfOF",
      "execution_count": 70,
      "outputs": []
    },
    {
      "cell_type": "code",
      "source": [
        "# Probamos y vemos que generamos un número leatorio entre -100 y 100 distinto cada vez\n",
        "toolbox.attr_uniform()"
      ],
      "metadata": {
        "id": "-JrwQYVjtfsP",
        "outputId": "9e9f6ce8-7f38-4c5f-9b38-ffdd8ae43d20",
        "colab": {
          "base_uri": "https://localhost:8080/"
        }
      },
      "id": "-JrwQYVjtfsP",
      "execution_count": 71,
      "outputs": [
        {
          "output_type": "execute_result",
          "data": {
            "text/plain": [
              "-37.970486136133474"
            ]
          },
          "metadata": {},
          "execution_count": 71
        }
      ]
    },
    {
      "cell_type": "markdown",
      "source": [
        "Creamos el individuo completo llamando a la función que genera cada uno de los individuos tantas veces como variables independientes tengamos. "
      ],
      "metadata": {
        "id": "tvqw2x_DKZe2"
      },
      "id": "tvqw2x_DKZe2"
    },
    {
      "cell_type": "code",
      "source": [
        "# Generación de inviduos\n",
        "toolbox.register(\"individual\", \n",
        "                 tools.initRepeat, \n",
        "                 creator.Individual,\n",
        "                 toolbox.attr_uniform, 2) #2 = Número de veces que se llamará a la función; 2 cromosomas a crear"
      ],
      "metadata": {
        "id": "PKCbammrtqKZ"
      },
      "id": "PKCbammrtqKZ",
      "execution_count": 72,
      "outputs": []
    },
    {
      "cell_type": "code",
      "source": [
        "# Ejemplo de la generación de un individuo aleatorio\n",
        "individuo = toolbox.individual()\n",
        "individuo"
      ],
      "metadata": {
        "id": "UHkFZcz_tsPS",
        "outputId": "1c7b9b2a-0819-4731-94d2-45224ab4dea8",
        "colab": {
          "base_uri": "https://localhost:8080/"
        }
      },
      "id": "UHkFZcz_tsPS",
      "execution_count": 73,
      "outputs": [
        {
          "output_type": "execute_result",
          "data": {
            "text/plain": [
              "[45.96634965202574, 79.7676575935987]"
            ]
          },
          "metadata": {},
          "execution_count": 73
        }
      ]
    },
    {
      "cell_type": "code",
      "source": [
        "# Recordar que individuo es una lista que tiene un atributo fitness\n",
        "# donde se almacena la calidad del mismo, que al principio será\n",
        "# vacío, porque aun no ha sido evaluado\n",
        "individuo.fitness.values"
      ],
      "metadata": {
        "id": "aZYiMp45ttBc",
        "outputId": "e63fde0d-9a9b-4505-9f87-159baac94789",
        "colab": {
          "base_uri": "https://localhost:8080/"
        }
      },
      "id": "aZYiMp45ttBc",
      "execution_count": 74,
      "outputs": [
        {
          "output_type": "execute_result",
          "data": {
            "text/plain": [
              "()"
            ]
          },
          "metadata": {},
          "execution_count": 74
        }
      ]
    },
    {
      "cell_type": "markdown",
      "source": [
        "###Generación de la población"
      ],
      "metadata": {
        "id": "lZnfC4vvKm7R"
      },
      "id": "lZnfC4vvKm7R"
    },
    {
      "cell_type": "code",
      "source": [
        "# Generación de población\n",
        "toolbox.register(\"population\", tools.initRepeat, list,\n",
        "                 toolbox.individual, 100)"
      ],
      "metadata": {
        "id": "0ySNJ5m8tvN3"
      },
      "id": "0ySNJ5m8tvN3",
      "execution_count": 75,
      "outputs": []
    },
    {
      "cell_type": "code",
      "source": [
        "poblacion = toolbox.population()\n",
        "print(poblacion)"
      ],
      "metadata": {
        "id": "sf_heb2rtyE0",
        "outputId": "38b5affd-1de2-492f-f7db-639b8b016bb5",
        "colab": {
          "base_uri": "https://localhost:8080/"
        }
      },
      "id": "sf_heb2rtyE0",
      "execution_count": 76,
      "outputs": [
        {
          "output_type": "stream",
          "name": "stdout",
          "text": [
            "[[36.79678638308826, -5.571456909457325], [-79.85975838632683, -13.165632909243257], [22.177394688760316, 82.60221064757965], [93.32127355415176, -4.5980446894566], [73.061985554328, -47.90153792160812], [61.005565402604475, 9.739860767117861], [-97.19165996719622, 43.94093728079082], [-20.235291555146247, 64.96899542964661], [33.63064024637018, -99.77143613711435], [-1.284426706935065, 73.52055509855617], [-51.2178246225736, -34.95912745052199], [74.09424642173093, -61.78658169952189], [13.50214812413438, -52.27681427695596], [93.50805005802866, 60.63589385597402], [-10.406085712885925, -83.91083628949292], [-35.98907906549084, 1.5881285041147777], [86.56676484538136, -78.18843081377926], [10.253449218110248, 41.312281973377935], [9.488182265684756, 62.8933726582672], [8.056721394064795, 92.76770919476019], [20.63712559227659, 17.52341283508727], [-11.00219474489677, 19.257372316621257], [-23.019770805467914, 15.130202832977702], [-41.934099519448395, -62.121734289128774], [-62.654094348888975, 22.554635973721332], [31.331877797925756, -4.693801598123855], [-82.03512776088127, 51.52078439328736], [75.35407416455496, 84.67620318925611], [68.4920446280365, 79.6346242715758], [84.61648796403537, 8.119984989610884], [-21.740789953075023, 41.05667997088125], [-44.87317573757457, 62.32574170157571], [69.89719303727341, 79.00779348533504], [17.960236706231967, 89.95297464642411], [15.93900214912118, -9.887378673768964], [32.0490757244778, 99.25156787071455], [83.38824358949122, 58.66501682604485], [-83.52540236067051, 22.556621008142443], [-2.711159606166632, 26.029468082294557], [69.01551513430303, -51.39287558762875], [46.29784415816957, -76.5731413582964], [-55.9078926264343, 58.91659434211519], [-33.4927701560689, 63.18261930673191], [-79.87849595678077, -70.72830221753924], [39.53412803824776, -90.95318642687752], [14.773207357833385, 82.00320293980795], [6.839593652144799, 36.1178265124513], [-94.66064106755896, 26.999981982291658], [21.267683550843785, 15.190589606308151], [-21.75811813543463, -25.972011932962502], [96.10333012945372, -92.72159247770284], [-95.67269802899519, 92.20625604792224], [-63.005611720512334, -75.22096711511367], [-57.88469802267071, 60.14931807083619], [87.39383172891615, -95.44348486626832], [-14.876233606636575, -79.69995612516605], [-48.0160220414336, -55.83414573673653], [29.385143967064522, -29.94120652069354], [-63.93641969406243, 0.7273010419774408], [-92.12425858306152, -79.81575176220667], [97.6470297445002, -60.128841906587404], [-28.288939737679627, 46.319661245072126], [67.66531303868325, 83.69641239906628], [-66.11507878050647, 34.52811271461053], [93.30978060863663, -88.38981123470026], [35.24035685987565, 69.08491874032327], [-31.537491784283205, -49.86253214297767], [19.3582786938822, -11.53719326018421], [-65.03610310971177, -5.67491698074241], [-18.01892086848909, 13.822547904856037], [1.7200260125266311, -37.710799799958636], [-28.56966348194743, 67.5322348737958], [-49.813467035572586, 12.120043770704797], [-97.51273623413712, 48.31487548213272], [-32.81668910530789, -90.86070128631667], [-43.82336715633035, -51.97391843472921], [90.62586796555979, -29.55488769689852], [-42.42441702871999, -28.159760549250734], [89.38116713157822, 26.74957044985051], [24.215369123733453, 43.12387006029127], [-22.396552937498868, -17.116402344550536], [30.166572452669016, -99.69515562865597], [-61.53809175106484, -33.11966186749969], [-52.11680796280829, 27.479880225860057], [-24.270385935381114, 75.08467834260344], [13.63028418203838, -17.118720663271134], [-19.546584976184093, 40.36592478673509], [-16.354689341506784, 32.43917779476348], [-90.64406280864034, -10.929562056234033], [-48.15461531055545, -68.46268557553783], [5.51462603352293, -2.5468797861935855], [12.280985122885383, 51.09695345173651], [76.77503084974018, -1.0834659249426437], [-37.588350716625406, -6.621552929495294], [61.80917147207248, 75.00326629605422], [62.482986472751804, -62.3997411898344], [99.88407189106607, 26.61775198366007], [-83.30658996485414, 45.11087109226247], [97.36429604102563, -19.63663555749129], [35.703001048393645, -36.76457255573153]]\n"
          ]
        }
      ]
    },
    {
      "cell_type": "code",
      "source": [
        "poblacion[0]"
      ],
      "metadata": {
        "id": "en4be_Aft0IR",
        "outputId": "7fdc607f-853a-4865-d0ba-8e4ac0eb0193",
        "colab": {
          "base_uri": "https://localhost:8080/"
        }
      },
      "id": "en4be_Aft0IR",
      "execution_count": 77,
      "outputs": [
        {
          "output_type": "execute_result",
          "data": {
            "text/plain": [
              "[36.79678638308826, -5.571456909457325]"
            ]
          },
          "metadata": {},
          "execution_count": 77
        }
      ]
    },
    {
      "cell_type": "code",
      "source": [
        "poblacion[0].fitness.values"
      ],
      "metadata": {
        "id": "PSU4pD_Zt2E4",
        "outputId": "231b0d5b-e58b-4cab-f08b-8756fb2fca84",
        "colab": {
          "base_uri": "https://localhost:8080/"
        }
      },
      "id": "PSU4pD_Zt2E4",
      "execution_count": 78,
      "outputs": [
        {
          "output_type": "execute_result",
          "data": {
            "text/plain": [
              "()"
            ]
          },
          "metadata": {},
          "execution_count": 78
        }
      ]
    },
    {
      "cell_type": "markdown",
      "source": [
        "###Función objetivo y operadores genéticos"
      ],
      "metadata": {
        "id": "phtvEQGRQUh_"
      },
      "id": "phtvEQGRQUh_"
    },
    {
      "cell_type": "markdown",
      "source": [
        "Creamos nuestra **función objetivo** "
      ],
      "metadata": {
        "id": "fyWZJYJYQY3b"
      },
      "id": "fyWZJYJYQY3b"
    },
    {
      "cell_type": "code",
      "source": [
        "def funcion_objetivo(x):\n",
        "    \"\"\"\n",
        "    Función objetivo de nuestro problema\n",
        "    \"\"\"\n",
        "    for i in range(len(x)):\n",
        "        if x[i] > 100 or x[i] < -100:\n",
        "            return -1,\n",
        "    res1 = (1-x[0])**2\n",
        "    res2 = np.exp(-(x[0]**2+(x[1]+1)**2))\n",
        "    res3 = x[0]/5-x[0]**3-x[1]**5\n",
        "    res4 = np.exp(-(x[0]**2)-(x[1]**2))\n",
        "    res5 = (1/3)*np.exp(-((x[0]+1)**2)-x[1]**2)\n",
        "    res = 3* res1 * res2 - 10 * res3 * res4 - res5\n",
        "    return res,\n"
      ],
      "metadata": {
        "id": "gFLhinh0t6Zl"
      },
      "id": "gFLhinh0t6Zl",
      "execution_count": 79,
      "outputs": []
    },
    {
      "cell_type": "markdown",
      "source": [
        "Ahora, registramos la función de fitness"
      ],
      "metadata": {
        "id": "p4wfpQplQua3"
      },
      "id": "p4wfpQplQua3"
    },
    {
      "cell_type": "code",
      "source": [
        "toolbox.register(\"evaluate\", funcion_objetivo)"
      ],
      "metadata": {
        "id": "6oAhyVoSt8qk"
      },
      "id": "6oAhyVoSt8qk",
      "execution_count": 80,
      "outputs": []
    },
    {
      "cell_type": "markdown",
      "source": [
        "Comprobamos el individuo generado"
      ],
      "metadata": {
        "id": "lugIckQDveBo"
      },
      "id": "lugIckQDveBo"
    },
    {
      "cell_type": "code",
      "source": [
        "individuo"
      ],
      "metadata": {
        "id": "G5H6fyWe7Z6o",
        "outputId": "b63d408e-25a0-4aa6-e047-92e9bb56c2de",
        "colab": {
          "base_uri": "https://localhost:8080/"
        }
      },
      "id": "G5H6fyWe7Z6o",
      "execution_count": 81,
      "outputs": [
        {
          "output_type": "execute_result",
          "data": {
            "text/plain": [
              "[45.96634965202574, 79.7676575935987]"
            ]
          },
          "metadata": {},
          "execution_count": 81
        }
      ]
    },
    {
      "cell_type": "code",
      "source": [
        "# Ejemplo de uso 1\n",
        "funcion_objetivo(individuo)"
      ],
      "metadata": {
        "id": "_mlAR7N_t9TV",
        "outputId": "de3937e0-9163-48f3-c06f-fb51282d54fb",
        "colab": {
          "base_uri": "https://localhost:8080/"
        }
      },
      "id": "_mlAR7N_t9TV",
      "execution_count": 82,
      "outputs": [
        {
          "output_type": "execute_result",
          "data": {
            "text/plain": [
              "(0.0,)"
            ]
          },
          "metadata": {},
          "execution_count": 82
        }
      ]
    },
    {
      "cell_type": "code",
      "source": [
        "# Ejemplo de uso 2\n",
        "toolbox.evaluate(individuo)"
      ],
      "metadata": {
        "id": "du25lcAht_QK",
        "outputId": "62bd3ab4-80ea-4bd8-ae69-741f191aa417",
        "colab": {
          "base_uri": "https://localhost:8080/"
        }
      },
      "id": "du25lcAht_QK",
      "execution_count": 83,
      "outputs": [
        {
          "output_type": "execute_result",
          "data": {
            "text/plain": [
              "(0.0,)"
            ]
          },
          "metadata": {},
          "execution_count": 83
        }
      ]
    },
    {
      "cell_type": "markdown",
      "source": [
        "#Distintos puntos de cruce"
      ],
      "metadata": {
        "id": "vHPSIfN2XwwA"
      },
      "id": "vHPSIfN2XwwA"
    },
    {
      "cell_type": "markdown",
      "source": [
        "**Crossover** es un operador genético utilizado para variar la programación de un cromosoma o cromosomas de una generación a la siguiente. \n",
        "\n",
        "Crossover es reproducción sexual. Se seleccionan al azar dos hilos del grupo de apareamiento para cruzarlos y producir una descendencia superior. \n",
        "\n",
        "Veremos 3 tipos distintos de cruces:\n",
        "\n",
        "1. **Punto de cruce único**: Se selecciona un punto de cruce en la cadena del organismo principal. Todos los datos más allá de ese punto en la cadena del organismo se intercambian entre los dos organismos principales. Las cadenas se caracterizan por el sesgo posicional.\n",
        "\n",
        "2. **Crossover de Dos Puntos**: Se eligen dos puntos aleatorios en los cromosomas individuales (cadenas) y el material genético se intercambia en estos puntos.\n",
        "\n",
        "3. **Cruce uniforme**: cada gen (bit) se selecciona aleatoriamente de uno de los genes correspondientes de los cromosomas originales.\n"
      ],
      "metadata": {
        "id": "I74fWmqcbO3M"
      },
      "id": "I74fWmqcbO3M"
    },
    {
      "cell_type": "markdown",
      "source": [
        "## Un único punto de cruce "
      ],
      "metadata": {
        "id": "c8Z-gU_fm18_"
      },
      "id": "c8Z-gU_fm18_"
    },
    {
      "cell_type": "markdown",
      "source": [
        "###**MUTACIÓN** "
      ],
      "metadata": {
        "id": "1h9wNIu3Saet"
      },
      "id": "1h9wNIu3Saet"
    },
    {
      "cell_type": "code",
      "source": [
        "# Registro de operacion genética de cruce\n",
        "toolbox.register(\"mate\", tools.cxOnePoint)"
      ],
      "metadata": {
        "id": "MgE-AgePuCdq"
      },
      "id": "MgE-AgePuCdq",
      "execution_count": 84,
      "outputs": []
    },
    {
      "cell_type": "markdown",
      "source": [
        "Utilizamos el operador `mutGaussian` (mutación Gaussiana) con una media de 0 y una deviación típica de 5"
      ],
      "metadata": {
        "id": "F8LLceksf6MO"
      },
      "id": "F8LLceksf6MO"
    },
    {
      "cell_type": "code",
      "source": [
        "toolbox.register(\"mutate\", tools.mutGaussian, mu=0,\n",
        "                 sigma= 5, indpb=0.1)"
      ],
      "metadata": {
        "id": "u0kE-5mMuFmD"
      },
      "id": "u0kE-5mMuFmD",
      "execution_count": 85,
      "outputs": []
    },
    {
      "cell_type": "markdown",
      "source": [
        "`MutGaussian(individual, mu, sigma, indpb)` \n",
        "\n",
        "Consiste en mutar, con una probabilidad `indpb` cada uno de los genes del individuo `individual`, sumando a cada uno de ellos una cierta cantidad aleatoria. \n",
        "\n",
        "Esta cantidad se genera según una función de probabilidad Gaussiana (o normal), de media `mu` y desviación típica `sigma`"
      ],
      "metadata": {
        "id": "4qoeqcBygDnS"
      },
      "id": "4qoeqcBygDnS"
    },
    {
      "cell_type": "markdown",
      "source": [
        "`indpb`: La probabilidad  de mutar cada uno de los genes del individuo\n",
        "\n",
        "En general, debe ser bajo para que la mutación no modifique en exceso al individuo. Valores muy altos de esta probabilidad pueden hacer que el algoritmo no converja correctamente, o que no se intensifiquen ciertas zonas del espacio de búsqueda."
      ],
      "metadata": {
        "id": "qh0Itj2ngTm_"
      },
      "id": "qh0Itj2ngTm_"
    },
    {
      "cell_type": "markdown",
      "source": [
        "###**SELECCIÓN** "
      ],
      "metadata": {
        "id": "IU6-fGfBSUDz"
      },
      "id": "IU6-fGfBSUDz"
    },
    {
      "cell_type": "code",
      "source": [
        "toolbox.register(\"select\", tools.selTournament, tournsize=3)"
      ],
      "metadata": {
        "id": "C7AT0zG-uIVs"
      },
      "id": "C7AT0zG-uIVs",
      "execution_count": 86,
      "outputs": []
    },
    {
      "cell_type": "markdown",
      "source": [
        "Usamos el operador `selTournament(individuals, k, tournsize)` que nos permite realizar una **selección mediante torneo**. \n",
        "\n",
        "Fijamos un tamaño igual a 3, puesto que se ha demostrado que este tamaño funciona relativamente bien para la mayoría de los casos.\n",
        "\n",
        "Al final del torneo, se habrán clasificiado los 3 mejores individuos."
      ],
      "metadata": {
        "id": "Nbd5GtFGgxI-"
      },
      "id": "Nbd5GtFGgxI-"
    },
    {
      "cell_type": "markdown",
      "source": [
        "La *selección mediante torneo* tiene una ventaja, y es que al ser un proceso muy elitista (puesto que solo participan en las operaciones genéticas los ganadores /mejores individuos) hace que el algoritmo converja más rápidamente."
      ],
      "metadata": {
        "id": "980lPUgBiX5K"
      },
      "id": "980lPUgBiX5K"
    },
    {
      "cell_type": "code",
      "source": [
        "def plot_evolucion(log):\n",
        "    \"\"\"\n",
        "    Representa la evolución del mejor individuo en cada generación\n",
        "    \"\"\"\n",
        "    gen = log.select(\"gen\")\n",
        "    fit_mins = log.select(\"min\")\n",
        "    fit_maxs = log.select(\"max\")\n",
        "    fit_ave = log.select(\"avg\")\n",
        "\n",
        "    fig, ax1 = plt.subplots()\n",
        "    ax1.plot(gen, fit_mins, \"b\")\n",
        "    ax1.plot(gen, fit_maxs, \"r\")\n",
        "    ax1.plot(gen, fit_ave, \"--k\")\n",
        "    ax1.fill_between(gen, fit_mins, fit_maxs,\n",
        "                     where=fit_maxs >= fit_mins, facecolor='g', alpha = 0.2)\n",
        "    ax1.set_xlabel(\"Generation\")\n",
        "    ax1.set_ylabel(\"Fitness\")\n",
        "    ax1.set_ylim([-10, 160])\n",
        "    ax1.legend([\"Min\", \"Max\", \"Avg\"], loc=\"lower center\")\n",
        "    plt.grid(True)\n",
        "    plt.savefig(\"Convergencia.eps\", dpi = 300)"
      ],
      "metadata": {
        "id": "U5qYAHjNuKbO"
      },
      "id": "U5qYAHjNuKbO",
      "execution_count": 87,
      "outputs": []
    },
    {
      "cell_type": "markdown",
      "source": [
        "Configuramos el algoritmo genético"
      ],
      "metadata": {
        "id": "QURstFAoi6Ps"
      },
      "id": "QURstFAoi6Ps"
    },
    {
      "cell_type": "code",
      "source": [
        "def main():\n",
        "    random.seed(42)\n",
        "    CXPB, MUTPB, NGEN = 0.5, 0.2, 20\n",
        "    pop = toolbox.population()\n",
        "    hof = tools.HallOfFame(1)\n",
        "    stats = tools.Statistics(lambda ind: ind.fitness.values)\n",
        "    stats.register(\"avg\", np.mean)\n",
        "    stats.register(\"std\", np.std)\n",
        "    stats.register(\"min\", np.min)\n",
        "    stats.register(\"max\", np.max)\n",
        "    logbook = tools.Logbook()\n",
        "    pop, logbook = algorithms.eaSimple(pop, toolbox, cxpb=CXPB,\n",
        "                                       mutpb=MUTPB, ngen=NGEN, stats=stats,\n",
        "                                       halloffame=hof, verbose=True)\n",
        "    return hof, logbook"
      ],
      "metadata": {
        "id": "YaUHmlN4uOKh"
      },
      "id": "YaUHmlN4uOKh",
      "execution_count": 88,
      "outputs": []
    },
    {
      "cell_type": "markdown",
      "source": [
        "Resultados del Algoritmo Genético"
      ],
      "metadata": {
        "id": "PInRNdxjTWJ9"
      },
      "id": "PInRNdxjTWJ9"
    },
    {
      "cell_type": "code",
      "source": [
        "best, log = main()\n",
        "print(\"Mejor fitness: %f\" %best[0].fitness.values)\n",
        "print(\"Mejor individuo %s\" %best[0])\n",
        "plot_evolucion(log)"
      ],
      "metadata": {
        "id": "T6ZazoG5uTJg",
        "outputId": "24410400-96d1-4fe9-afc6-88bdcdfaffde",
        "colab": {
          "base_uri": "https://localhost:8080/",
          "height": 0
        }
      },
      "id": "T6ZazoG5uTJg",
      "execution_count": 89,
      "outputs": [
        {
          "output_type": "stream",
          "name": "stdout",
          "text": [
            "gen\tnevals\tavg        \tstd        \tmin         \tmax        \n",
            "0  \t100   \t1.93843e-50\t1.92871e-49\t-8.19747e-63\t1.93843e-48\n",
            "1  \t49    \t-0.01      \t0.0994987  \t-1          \t1.93843e-48\n",
            "2  \t52    \t9.54873e-32\t9.50086e-31\t0           \t9.54873e-30\n",
            "3  \t64    \t2.86462e-31\t1.62889e-30\t-3.56017e-85\t9.54873e-30\n",
            "4  \t58    \t-0.000366985\t0.00365146 \t-0.0366985  \t6.5714e-21 \n",
            "5  \t54    \t1.99884e-21 \t1.53568e-20\t0           \t1.53884e-19\n",
            "6  \t50    \t1.83181e-20 \t7.80529e-20\t-1.32976e-61\t3.93195e-19\n",
            "7  \t74    \t1.70604e-11 \t1.69749e-10\t-2.91446e-52\t1.70604e-09\n",
            "8  \t51    \t1.36313e-09 \t1.33926e-08\t5.33806e-108\t1.34607e-07\n",
            "9  \t50    \t5.38428e-09 \t2.63774e-08\t5.92491e-35 \t1.34607e-07\n",
            "10 \t50    \t1.8845e-08  \t4.67068e-08\t6.5714e-21  \t1.34607e-07\n",
            "11 \t65    \t4.98379e-08 \t6.49853e-08\t1.53884e-19 \t1.3565e-07 \n",
            "12 \t52    \t1.01114e-07 \t5.80737e-08\t9.20815e-18 \t1.35972e-07\n",
            "13 \t50    \t0.0662859   \t0.653976   \t2.63794e-18 \t6.57303    \n",
            "14 \t70    \t0.176375    \t1.01234    \t8.50633e-20 \t6.57303    \n",
            "15 \t60    \t0.268031    \t1.29318    \t7.77223e-67 \t6.69177    \n",
            "16 \t61    \t1.08017     \t2.41933    \t6.51648e-33 \t6.69177    \n",
            "17 \t56    \t2.82554     \t3.27183    \t-1.47281    \t7.33506    \n",
            "18 \t60    \t5.74914     \t2.3037     \t-1.3246e-05 \t7.41306    \n",
            "19 \t63    \t6.45191     \t1.32893    \t1.82147e-22 \t7.40523    \n",
            "20 \t63    \t6.62916     \t1.19754    \t-0.219969   \t7.40523    \n",
            "Mejor fitness: 7.413065\n",
            "Mejor individuo [0.06046700210138432, 1.7919972024804398]\n"
          ]
        },
        {
          "output_type": "stream",
          "name": "stderr",
          "text": [
            "<ipython-input-87-a0277e2a9551>:14: MatplotlibDeprecationWarning: The parameter where must have the same size as x in fill_between(). This will become an error in future versions of Matplotlib.\n",
            "  ax1.fill_between(gen, fit_mins, fit_maxs,\n",
            "WARNING:matplotlib.backends.backend_ps:The PostScript backend does not support transparency; partially transparent artists will be rendered opaque.\n",
            "WARNING:matplotlib.backends.backend_ps:The PostScript backend does not support transparency; partially transparent artists will be rendered opaque.\n",
            "WARNING:matplotlib.backends.backend_ps:The PostScript backend does not support transparency; partially transparent artists will be rendered opaque.\n"
          ]
        },
        {
          "output_type": "display_data",
          "data": {
            "text/plain": [
              "<Figure size 432x288 with 1 Axes>"
            ],
            "image/png": "[encoded data removed]"
          },
          "metadata": {
            "needs_background": "light"
          }
        }
      ]
    },
    {
      "cell_type": "markdown",
      "source": [
        "## Cruce con dos puntos"
      ],
      "metadata": {
        "id": "Qxd99VO4m7wq"
      },
      "id": "Qxd99VO4m7wq"
    },
    {
      "cell_type": "code",
      "source": [
        "# Registro de operacion genética de cruce\n",
        "#toolbox.register(\"mate\", tools.cxOnePoint)\n",
        "toolbox.register(\"mate\", tools.cxTwoPoint)\n",
        "#toolbox.register(\"mate\", tools.cxUniform)"
      ],
      "metadata": {
        "id": "UhzMa--3nGiL"
      },
      "id": "UhzMa--3nGiL",
      "execution_count": 90,
      "outputs": []
    },
    {
      "cell_type": "code",
      "source": [
        "toolbox.register(\"mutate\", tools.mutGaussian, mu=0,\n",
        "                 sigma= 5, indpb=0.1)"
      ],
      "metadata": {
        "id": "qHXehm4GnRay"
      },
      "id": "qHXehm4GnRay",
      "execution_count": 91,
      "outputs": []
    },
    {
      "cell_type": "code",
      "source": [
        "toolbox.register(\"select\", tools.selTournament, tournsize=3)"
      ],
      "metadata": {
        "id": "QaeYfRROnVQO"
      },
      "id": "QaeYfRROnVQO",
      "execution_count": 92,
      "outputs": []
    },
    {
      "cell_type": "code",
      "source": [
        "def plot_evolucion(log):\n",
        "    \"\"\"\n",
        "    Representa la evolución del mejor individuo en cada generación\n",
        "    \"\"\"\n",
        "    gen = log.select(\"gen\")\n",
        "    fit_mins = log.select(\"min\")\n",
        "    fit_maxs = log.select(\"max\")\n",
        "    fit_ave = log.select(\"avg\")\n",
        "\n",
        "    fig, ax1 = plt.subplots()\n",
        "    ax1.plot(gen, fit_mins, \"b\")\n",
        "    ax1.plot(gen, fit_maxs, \"r\")\n",
        "    ax1.plot(gen, fit_ave, \"--k\")\n",
        "    ax1.fill_between(gen, fit_mins, fit_maxs,\n",
        "                     where=fit_maxs >= fit_mins, facecolor='g', alpha = 0.2)\n",
        "    ax1.set_xlabel(\"Generation\")\n",
        "    ax1.set_ylabel(\"Fitness\")\n",
        "    ax1.set_ylim([-10, 160])\n",
        "    ax1.legend([\"Min\", \"Max\", \"Avg\"], loc=\"lower center\")\n",
        "    plt.grid(True)\n",
        "    plt.savefig(\"Convergencia.eps\", dpi = 300)"
      ],
      "metadata": {
        "id": "9RXaLl0Dn9xc"
      },
      "id": "9RXaLl0Dn9xc",
      "execution_count": 93,
      "outputs": []
    },
    {
      "cell_type": "code",
      "source": [
        "def main():\n",
        "    random.seed(42)\n",
        "    CXPB, MUTPB, NGEN = 0.5, 0.2, 20\n",
        "    pop = toolbox.population()\n",
        "    hof = tools.HallOfFame(1)\n",
        "    stats = tools.Statistics(lambda ind: ind.fitness.values)\n",
        "    stats.register(\"avg\", np.mean)\n",
        "    stats.register(\"std\", np.std)\n",
        "    stats.register(\"min\", np.min)\n",
        "    stats.register(\"max\", np.max)\n",
        "    logbook = tools.Logbook()\n",
        "    pop, logbook = algorithms.eaSimple(pop, toolbox, cxpb=CXPB,\n",
        "                                       mutpb=MUTPB, ngen=NGEN, stats=stats,\n",
        "                                       halloffame=hof, verbose=True)\n",
        "    return hof, logbook"
      ],
      "metadata": {
        "id": "jemaIA6aoD2_"
      },
      "id": "jemaIA6aoD2_",
      "execution_count": 94,
      "outputs": []
    },
    {
      "cell_type": "code",
      "source": [
        "best, log = main()\n",
        "print(\"Mejor fitness: %f\" %best[0].fitness.values)\n",
        "print(\"Mejor individuo %s\" %best[0])\n",
        "plot_evolucion(log)"
      ],
      "metadata": {
        "id": "AjQhdO8OoHNg",
        "outputId": "26124845-34eb-4c58-f12d-4abcbfdccca4",
        "colab": {
          "base_uri": "https://localhost:8080/",
          "height": 0
        }
      },
      "id": "AjQhdO8OoHNg",
      "execution_count": 95,
      "outputs": [
        {
          "output_type": "stream",
          "name": "stderr",
          "text": [
            "<ipython-input-93-a0277e2a9551>:14: MatplotlibDeprecationWarning: The parameter where must have the same size as x in fill_between(). This will become an error in future versions of Matplotlib.\n",
            "  ax1.fill_between(gen, fit_mins, fit_maxs,\n",
            "WARNING:matplotlib.backends.backend_ps:The PostScript backend does not support transparency; partially transparent artists will be rendered opaque.\n",
            "WARNING:matplotlib.backends.backend_ps:The PostScript backend does not support transparency; partially transparent artists will be rendered opaque.\n",
            "WARNING:matplotlib.backends.backend_ps:The PostScript backend does not support transparency; partially transparent artists will be rendered opaque.\n"
          ]
        },
        {
          "output_type": "stream",
          "name": "stdout",
          "text": [
            "gen\tnevals\tavg        \tstd        \tmin         \tmax        \n",
            "0  \t100   \t1.93843e-50\t1.92871e-49\t-8.19747e-63\t1.93843e-48\n",
            "1  \t55    \t9.69215e-50\t4.2247e-49 \t-5.6445e-140\t1.93843e-48\n",
            "2  \t54    \t-2.77757e-10\t2.76365e-09\t-2.77757e-08\t9.62191e-38\n",
            "3  \t54    \t1.39112e-25 \t1.38414e-24\t0           \t1.39112e-23\n",
            "4  \t43    \t-2.77757e-10\t2.76365e-09\t-2.77757e-08\t1.39112e-23\n",
            "5  \t61    \t9.2011e-15  \t6.63727e-14\t0           \t5.84792e-13\n",
            "6  \t64    \t-8.5687e-05 \t0.000852575\t-0.0085687  \t5.84792e-13\n",
            "7  \t61    \t0.00101441  \t0.0100932  \t4.41527e-65 \t0.101441   \n",
            "8  \t51    \t0.0653251   \t0.617144   \t-6.94448e-08\t6.20338    \n",
            "9  \t55    \t0.197282    \t1.05693    \t-6.23852e-14\t6.20338    \n",
            "10 \t58    \t0.617602    \t1.87859    \t-2.43588    \t6.20338    \n",
            "11 \t59    \t1.79351     \t2.75949    \t-9.91273e-17\t6.20338    \n",
            "12 \t52    \t4.34659     \t2.78739    \t-0.491237   \t6.20338    \n",
            "13 \t66    \t5.90065     \t1.27026    \t9.62e-33    \t6.20338    \n",
            "14 \t60    \t5.84401     \t1.62766    \t-4.9379     \t6.20338    \n",
            "15 \t65    \t5.86283     \t1.56723    \t-4.88031    \t6.20338    \n",
            "16 \t61    \t5.77535     \t1.79677    \t-6.35773    \t6.20338    \n",
            "17 \t70    \t6.20338     \t1.77636e-15\t6.20338     \t6.20338    \n",
            "18 \t59    \t5.96391     \t1.17557    \t-0.000153669\t6.20338    \n",
            "19 \t56    \t5.98988     \t1.0765     \t6.85437e-25 \t6.20338    \n",
            "20 \t61    \t5.8461      \t1.38283    \t4.75508e-82 \t6.20338    \n",
            "Mejor fitness: 6.203384\n",
            "Mejor individuo [0.11722261005967027, 1.9495037203322996]\n"
          ]
        },
        {
          "output_type": "display_data",
          "data": {
            "text/plain": [
              "<Figure size 432x288 with 1 Axes>"
            ],
            "image/png": "[encoded data removed]"
          },
          "metadata": {
            "needs_background": "light"
          }
        }
      ]
    },
    {
      "cell_type": "markdown",
      "source": [
        "## Cruce uniforme"
      ],
      "metadata": {
        "id": "ngZpeoptnAsX"
      },
      "id": "ngZpeoptnAsX"
    },
    {
      "cell_type": "markdown",
      "source": [
        "Ahora probaremos lo mismo que antes, pero con un cruce uniforme. Los atributos se intercambian según la probabilidad indpb, que en este caso, le hemos dado el valor de 0.4"
      ],
      "metadata": {
        "id": "6rRh0dK7tTfG"
      },
      "id": "6rRh0dK7tTfG"
    },
    {
      "cell_type": "code",
      "source": [
        "toolbox.register(\"mate\", tools.cxUniform, indpb=0.4)"
      ],
      "metadata": {
        "id": "ZmGBhvNlnKib"
      },
      "id": "ZmGBhvNlnKib",
      "execution_count": 96,
      "outputs": []
    },
    {
      "cell_type": "code",
      "source": [
        "toolbox.register(\"mutate\", tools.mutGaussian, mu=0,\n",
        "                 sigma= 5, indpb=0.1)"
      ],
      "metadata": {
        "id": "GL2wWicEnR-m"
      },
      "id": "GL2wWicEnR-m",
      "execution_count": 97,
      "outputs": []
    },
    {
      "cell_type": "code",
      "source": [
        "toolbox.register(\"select\", tools.selTournament, tournsize=3)"
      ],
      "metadata": {
        "id": "SGO4E_fInVwC"
      },
      "id": "SGO4E_fInVwC",
      "execution_count": 98,
      "outputs": []
    },
    {
      "cell_type": "code",
      "source": [
        "def plot_evolucion(log):\n",
        "    \"\"\"\n",
        "    Representa la evolución del mejor individuo en cada generación\n",
        "    \"\"\"\n",
        "    gen = log.select(\"gen\")\n",
        "    fit_mins = log.select(\"min\")\n",
        "    fit_maxs = log.select(\"max\")\n",
        "    fit_ave = log.select(\"avg\")\n",
        "\n",
        "    fig, ax1 = plt.subplots()\n",
        "    ax1.plot(gen, fit_mins, \"b\")\n",
        "    ax1.plot(gen, fit_maxs, \"r\")\n",
        "    ax1.plot(gen, fit_ave, \"--k\")\n",
        "    ax1.fill_between(gen, fit_mins, fit_maxs,\n",
        "                     where=fit_maxs >= fit_mins, facecolor='g', alpha = 0.2)\n",
        "    ax1.set_xlabel(\"Generation\")\n",
        "    ax1.set_ylabel(\"Fitness\")\n",
        "    ax1.set_ylim([-10, 160])\n",
        "    ax1.legend([\"Min\", \"Max\", \"Avg\"], loc=\"lower center\")\n",
        "    plt.grid(True)\n",
        "    plt.savefig(\"Convergencia.eps\", dpi = 300)"
      ],
      "metadata": {
        "id": "tGXESCqzr2EC"
      },
      "id": "tGXESCqzr2EC",
      "execution_count": 99,
      "outputs": []
    },
    {
      "cell_type": "code",
      "source": [
        "def main():\n",
        "    random.seed(42)\n",
        "    CXPB, MUTPB, NGEN = 0.5, 0.2, 20\n",
        "    pop = toolbox.population()\n",
        "    hof = tools.HallOfFame(1)\n",
        "    stats = tools.Statistics(lambda ind: ind.fitness.values)\n",
        "    stats.register(\"avg\", np.mean)\n",
        "    stats.register(\"std\", np.std)\n",
        "    stats.register(\"min\", np.min)\n",
        "    stats.register(\"max\", np.max)\n",
        "    logbook = tools.Logbook()\n",
        "    pop, logbook = algorithms.eaSimple(pop, toolbox, cxpb=CXPB,\n",
        "                                       mutpb=MUTPB, ngen=NGEN, stats=stats,\n",
        "                                       halloffame=hof, verbose=True)\n",
        "    return hof, logbook"
      ],
      "metadata": {
        "id": "7cWjx6rioEh_"
      },
      "id": "7cWjx6rioEh_",
      "execution_count": 100,
      "outputs": []
    },
    {
      "cell_type": "code",
      "source": [
        "best, log = main()\n",
        "print(\"Mejor fitness: %f\" %best[0].fitness.values)\n",
        "print(\"Mejor individuo %s\" %best[0])\n",
        "plot_evolucion(log)"
      ],
      "metadata": {
        "id": "TA7FTBvJoH2m",
        "outputId": "05f6eb19-128b-4dce-8b2c-a3369b6bcad4",
        "colab": {
          "base_uri": "https://localhost:8080/",
          "height": 0
        }
      },
      "id": "TA7FTBvJoH2m",
      "execution_count": 101,
      "outputs": [
        {
          "output_type": "stream",
          "name": "stderr",
          "text": [
            "<ipython-input-99-a0277e2a9551>:14: MatplotlibDeprecationWarning: The parameter where must have the same size as x in fill_between(). This will become an error in future versions of Matplotlib.\n",
            "  ax1.fill_between(gen, fit_mins, fit_maxs,\n",
            "WARNING:matplotlib.backends.backend_ps:The PostScript backend does not support transparency; partially transparent artists will be rendered opaque.\n",
            "WARNING:matplotlib.backends.backend_ps:The PostScript backend does not support transparency; partially transparent artists will be rendered opaque.\n",
            "WARNING:matplotlib.backends.backend_ps:The PostScript backend does not support transparency; partially transparent artists will be rendered opaque.\n"
          ]
        },
        {
          "output_type": "stream",
          "name": "stdout",
          "text": [
            "gen\tnevals\tavg        \tstd        \tmin         \tmax        \n",
            "0  \t100   \t1.93843e-50\t1.92871e-49\t-8.19747e-63\t1.93843e-48\n",
            "1  \t48    \t1.16306e-49\t4.60351e-49\t0           \t1.93843e-48\n",
            "2  \t58    \t9.62191e-40\t9.57368e-39\t-8.02396e-118\t9.62191e-38\n",
            "3  \t57    \t-2.77757e-10\t2.76365e-09\t-2.77757e-08 \t1.39112e-23\n",
            "4  \t57    \t2.79554e-25 \t1.94742e-24\t-6.09907e-315\t1.39112e-23\n",
            "5  \t53    \t1.30985e-21 \t1.30258e-20\t6.05943e-77  \t1.30915e-19\n",
            "6  \t66    \t1.11789e-14 \t7.83303e-14\t1.93843e-48  \t5.84792e-13\n",
            "7  \t58    \t4.6272e-14  \t1.56966e-13\t-1.87111e-79 \t5.84792e-13\n",
            "8  \t61    \t1.45692e-13 \t2.52369e-13\t-2.42373e-67 \t5.84792e-13\n",
            "9  \t60    \t0.000145264 \t0.00144536 \t1.06184e-29  \t0.0145264  \n",
            "10 \t59    \t0.000145424 \t0.00144534 \t8.38211e-41  \t0.0145264  \n",
            "11 \t63    \t0.000720799 \t0.00588412 \t5.84792e-13  \t0.0574737  \n",
            "12 \t60    \t0.00613212  \t0.0259094  \t5.76469e-15  \t0.224583   \n",
            "13 \t59    \t0.0182194   \t0.0441254  \t5.84792e-13  \t0.224583   \n",
            "14 \t55    \t0.0851464   \t0.581647   \t-2.68795     \t4.93978    \n",
            "15 \t67    \t0.239796    \t0.716749   \t6.21552e-21  \t4.93978    \n",
            "16 \t49    \t0.48714     \t0.981411   \t0.0574737    \t4.93978    \n",
            "17 \t67    \t1.14089     \t1.51474    \t1.4988e-28   \t4.93978    \n",
            "18 \t66    \t2.20067     \t1.96263    \t-1.76261     \t4.93978    \n",
            "19 \t68    \t3.857       \t1.70831    \t-1.06883e-05 \t4.93978    \n",
            "20 \t71    \t4.62082     \t1.1436     \t7.8261e-84   \t4.93978    \n",
            "Mejor fitness: 4.939777\n",
            "Mejor individuo [0.11722261005967027, 2.0947319163367135]\n"
          ]
        },
        {
          "output_type": "display_data",
          "data": {
            "text/plain": [
              "<Figure size 432x288 with 1 Axes>"
            ],
            "image/png": "[encoded data removed]"
          },
          "metadata": {
            "needs_background": "light"
          }
        }
      ]
    },
    {
      "cell_type": "markdown",
      "source": [
        "#Conclusiones"
      ],
      "metadata": {
        "id": "1ZpvjEmIcUj3"
      },
      "id": "1ZpvjEmIcUj3"
    },
    {
      "cell_type": "markdown",
      "source": [
        "Compararemos las gráficas obtenidas según los 3 tipos distintos de cruces que hemos utilizados y analizaremos lo que significan."
      ],
      "metadata": {
        "id": "ev_woU7ilFkq"
      },
      "id": "ev_woU7ilFkq"
    },
    {
      "cell_type": "markdown",
      "source": [
        "**Un único punto de cruce**\n",
        "\n",
        "Mejor fitness: 7.413065\n",
        "\n",
        "Mejor individuo [0.06046700210138432, 1.7919972024804398]"
      ],
      "metadata": {
        "id": "XMp_Q8YNk0Od"
      },
      "id": "XMp_Q8YNk0Od"
    },
    {
      "cell_type": "markdown",
      "source": [
        "![1.1.png](data:image/png;base64,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)"
      ],
      "metadata": {
        "id": "Ckuof9utjsE5"
      },
      "id": "Ckuof9utjsE5"
    },
    {
      "cell_type": "markdown",
      "source": [
        "**Dos único punto de cruce**\n",
        "\n",
        "Mejor fitness: 6.203384\n",
        "\n",
        "Mejor individuo [0.11722261005967027, 1.9495037203322996]"
      ],
      "metadata": {
        "id": "JoA69HCOk_Zx"
      },
      "id": "JoA69HCOk_Zx"
    },
    {
      "cell_type": "markdown",
      "source": [
        "![2.2.png](data:image/png;base64,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)"
      ],
      "metadata": {
        "id": "WReYsGI0kmVa"
      },
      "id": "WReYsGI0kmVa"
    },
    {
      "cell_type": "markdown",
      "source": [
        "**Cruce uniforme**\n",
        "\n",
        "Mejor fitness: 4.939777\n",
        "\n",
        "Mejor individuo [0.11722261005967027, 2.0947319163367135]"
      ],
      "metadata": {
        "id": "n6inhodPlCQu"
      },
      "id": "n6inhodPlCQu"
    },
    {
      "cell_type": "markdown",
      "source": [
        "![4.1.1.1.png](data:image/png;base64,iVBORw0KGgoAAAANSUhEUgAAAYUAAAEKCAYAAAD9xUlFAAAABHNCSVQICAgIfAhkiAAAAAlwSFlzAAALEgAACxIB0t1+/AAAADh0RVh0U29mdHdhcmUAbWF0cGxvdGxpYiB2ZXJzaW9uMy4yLjIsIGh0dHA6Ly9tYXRwbG90bGliLm9yZy+WH4yJAAAgAElEQVR4nO3deXwV9b3/8dcnCRAgIWGNSEBQAUVxCy6ovQXtT9Fal5Z6wdqC+rvUqlW7XFH7u9XaeqteW2trbdULFXtbgtqqlKu3pTRca60o4AaikLoG2UEgQMhyPr8/ZjKehBOSHHIWk/fz8TiPzMx3lnfmnMwns5wZc3dEREQAcjIdQEREsoeKgoiIRFQUREQkoqIgIiIRFQUREYmoKIiISCRlRcHMZpvZRjNb0Wz4183sTTNbaWZ3xQ2/ycwqzewtMzs7VblERKRleSmc98PAfcAjjQPMbCJwAXCsu+81s0Hh8DHAFOAo4GDgz2Y2yt0bUphPRESaSdmegrs/C2xtNvhrwB3uvjccZ2M4/AKg3N33uvs7QCVwUqqyiYhIYqncU0hkFPApM7sdqAG+7e4vAUOAF+LGqwqH7cPMZgAzAHr27Fk2dOjQpILEYjFycrLvlEq25oLszaZc7aNc7dMZc61evXqzuw9M2OjuKXsBw4EVcf0rgJ8BRrAn8E7YfR9wadx4s4DJrc2/rKzMk1VRUZH0tKmUrbncszebcrWPcrVPZ8wFLPUWtqvpLn9VwO/DXC8CMWAAsBaI/5e/NBwmIiJplO6i8CQwEcDMRgHdgc3AfGCKmfUwsxHASODFNGcTEenyUnZOwczmAhOAAWZWBdwCzAZmh5ep1gLTwl2ZlWb2KPAGUA9c7brySEQk7VJWFNx9agtNl7Yw/u3A7anKIyIircu+U+oiIpIxKgoiIhJRURARkYiKgoiIRFQUREQkoqIgIiIRFQUREYmoKIiISERFQUREIioKIiISUVEQEZGIioKIiERUFEREJKKiICIiERUFERGJqCiIiEhERUFERCIpKwpmNtvMNoaP3mze9i0zczMbEPabmf3UzCrN7DUzOyFVuUREpGWp3FN4GJjUfKCZDQXOAt6PG3wOMDJ8zQB+kcJcIiLSgpQVBXd/FtiaoOke4AbA44ZdADzigReAYjMbnKpsIiKSmLl762MlO3Oz4cACdz867L8AOMPdrzOzd4Fx7r7ZzBYAd7j7c+F4i4CZ7r40wTxnEOxNUFJSUlZeXp5UturqagoKCpKaNpWyNRdkbzblah/lap/OmGvixInL3H1cwkZ3T9kLGA6sCLt7AUuAorD/XWBA2L0AOD1uukUEBWO/8y8rK/NkVVRUJD1tKmVrLvfszaZc7aNc7dMZcwFLvYXtal5SZSY5hwEjgFfNDKAUWG5mJwFrgaFx45aGw0REJI3Sdkmqu7/u7oPcfbi7DweqgBPcfT0wH/hKeBXSKcB2d1+XrmwiIhJI5SWpc4G/A6PNrMrMrtjP6E8DbwOVwEPAVanKJSIiLUvZ4SN3n9pK+/C4bgeuTlUWERFpG32jWUREIioKIiISUVEQEZGIioKIiERUFEREJKKiICIiERUFERGJqCiIiEhERUFERCIqCiIiElFREBGRiIqCiIhEVBRERCSioiAiIhEVBRERiagoiIhIJJVPXpttZhvNbEXcsP8wszfN7DUze8LMiuPabjKzSjN7y8zOTlUuERFpWSr3FB4GJjUbthA42t2PAVYDNwGY2RhgCnBUOM39ZpabwmwiIpJAyoqCuz8LbG027E/uXh/2vgCUht0XAOXuvtfd3yF4VvNJqcomIiKJZfKcwuXAM2H3EOCDuLaqcJiIiKSRuXvqZm42HFjg7kc3G/4dYBzweXd3M7sPeMHd/ytsnwU84+6PJ5jnDGAGQElJSVl5eXlS2aqrqykoKEhq2lTK1lyQvdmUq32Uq306Y66JEycuc/dxCRvdPWUvYDiwotmw6cDfgV5xw24Cborr/yMwvrX5l5WVebIqKiqSnjaVsjWXe/ZmU672Ua726Yy5gKXewnY1rYePzGwScANwvrvvjmuaD0wxsx5mNgIYCbyYzmwiIgJ5qZqxmc0FJgADzKwKuIVgj6AHsNDMIDhkdKW7rzSzR4E3gHrgandvSFU2ERFJLGVFwd2nJhg8az/j3w7cnqo8IiLSOn2jWUREIioKIiISUVEQEZGIioKIiERUFEREJKKiICIiERUFERGJqCiIiEhERUFERCIqCiIiElFREBGRiIqCiIhEVBRERCSioiAiIhEVBRERiagoiIhIREVBREQiKSsKZjbbzDaa2Yq4Yf3MbKGZrQl/9g2Hm5n91Mwqzew1MzshVblERKRlqdxTeBiY1GzYjcAidx8JLAr7Ac4BRoavGcAvUphLRERakLKi4O7PAlubDb4AmBN2zwEujBv+iAdeAIrNbHCqsomISGLm7qmbudlwYIG7Hx32f+TuxWG3AdvcvdjMFgB3uPtzYdsiYKa7L00wzxkEexOUlJSUlZeXJ5WturqagoKCpKZNpWzNBdmbTbnaR7napzPmmjhx4jJ3H5ew0d1T9gKGAyvi+j9q1r4t/LkAOD1u+CJgXGvzLysr82RVVFQkPW0qZWsu9+zNplzto1zt0xlzAUu9he1quq8+2tB4WCj8uTEcvhYYGjdeaThMRETSKN1FYT4wLeyeBjwVN/wr4VVIpwDb3X1dmrOJiHR5eamasZnNBSYAA8ysCrgFuAN41MyuAN4DLg5Hfxo4F6gEdgOXpSqXiIi0LGVFwd2nttB0ZoJxHbg6VVlERKRt9I1mERGJqCiIiEhERUFERCIqCiIiElFREBGRiIqCiIhEVBRERCSioiAiIhEVBRERiagoiIhIREVBREQi7S4KZtbXzI5JRRgREcmsNhUFM1tsZn3MrB+wHHjIzH6c2mgiIpJubd1TKHL3HcDnCZ6lfDLwmdTFEhGRTGhrUcgLn5R2McGjM0VEpBNqa1G4DfgjUOnuL5nZocCa1MUSEZFMaNNDdtz9MeCxuP63gS+kKpSIiGRGW0803xWeaO5mZovMbJOZXZrsQs3sG2a20sxWmNlcM8s3sxFmtsTMKs1snpl1T3b+IiKSnLYePjorPNF8HvAucDjwr8ks0MyGANcC49z9aCAXmALcCdzj7ocD24Arkpm/iIgkr80nmsOfnwUec/ftB7jcPKCnmeUBvYB1wBnA42H7HODCA1yGiIi0k7l76yOZ3UGwkd4DnAQUAwvCS1Pbv1Cz64Dbw/n9CbgOeCHcS8DMhgLPhHsSzaedAcwAKCkpKSsvL08mAtXV1RQUFCQ1bSplay7I3mzK1T7K1T6dMdfEiROXufu4hI3u3qYX0A/IDbt7Awe1ddpm8+kL/AUYCHQDngQuJbiyqXGcocCK1uZVVlbmyaqoqEh62lTK1lzu2ZtNudpHudqnM+YClnoL29W2nmjuBVwF/CIcdDCQuMq07jPAO+6+yd3rgN8DpwHF4eEkgFJgbZLzFxGRJLX1nMKvgFrg1LB/LfCDJJf5PnCKmfUyMwPOBN4AKoDJ4TjTgKeSnL+IiCSprUXhMHe/C6gDcPfdgCWzQHdfQnBCeTnwepjhQWAm8E0zqwT6A7OSmb+IiCSvTV9eA2rNrCfgAGZ2GLA32YW6+y3ALc0Gv01wEltERDKkrUXhFuB/gKFm9huCcwDTUxVKREQyo623uVhoZsuBUwgOG13n7ptTmkxERNKurXsKAPkE3zTOA8aYGe7+bGpiiYhIJrSpKJjZncA/AyuBWDjYARUFEZFOpK17ChcCo9096ZPLIiKS/dp6SerbBN8+FhGRTqytewq7gVfMbBFxl6K6+7UpSSUiIhnR1qIwP3zFa/1OeiIi8onS1qJQ7O73xg8I73QqIiKdSFvPKUxLMGx6B+YQEZEssN89BTObClwCjDCz+MNHhcDWVAYTEZH0a+3w0fMET0UbAPwobvhO4LVUhRIRkczYb1Fw9/eA94Dx6YkjIiKZ1Nrho+fc/XQz20nTq40McHfvk9J0IiKSVq0dPvoSgLsXpiGLiIhkWGtXHz3R2GFmv0txFhERybDWikL809UO7aiFmlmxmT1uZm+a2SozG29m/cxsoZmtCX/27ajliYhI27RWFLyF7gN1L/A/7n4EcCywCrgRWOTuI4FFYb+IiKRRa+cUjjWzHQR7DD3DbjiAE81mVgT8E+GX39y9luBxnxcAE8LR5gCLCZ7bLCIiaWLu6b2FkZkdBzwIvEGwl7AMuA5Y6+7F4TgGbGvsbzb9DGAGQElJSVl5eXlSOaqrqykoKEhq2lTK1lyQvdmUq32Uq306Y66JEycuc/dxCRvdPa0vYBxQD5wc9t8LfB/4qNl421qbV1lZmSeroqIi6WlTKVtzuWdvNuVqH+Vqn86YC1jqLWxX23rvo45UBVS5+5Kw/3HgBGCDmQ0GCH9uzEA2EZEuLe1Fwd3XAx+Y2ehw0JkEh5Lm8/GN96YBT6U7m4hIV9fWW2d3tK8DvzGz7gRPdbuMoEA9amZXENxa4+IMZRMR6bIyUhTc/RWCcwvNnZnuLCIi8rFMnFMQEZEspaIgIiIRFQUREYmoKIiISERFQUREIioKIiISUVEQEZGIioKIiERUFEREJKKiICIiERUFERGJqCiIiEhERUFERCIqCiIiElFREBGRiIqCiIhEVBRERCSSsaJgZrlm9rKZLQj7R5jZEjOrNLN54aM6RUQkjTK5p3AdsCqu/07gHnc/HNgGXJGRVCIiXVhGioKZlQKfBf4z7DfgDODxcJQ5wIWZyCYi0pWZu6d/oWaPAz8ECoFvA9OBF8K9BMxsKPCMux+dYNoZwAyAkpKSsvLy8qQyVFdXU1BQkNS0qZStuSB7sylX+yhX+3TGXBMnTlzm7uMSNrp7Wl/AecD9YfcEYAEwAKiMG2cosKK1eZWVlXmyKioqkp42lbI1l3v2ZlOu9lGu9umMuYCl3sJ2NS+pMnNgTgPON7NzgXygD3AvUGxmee5eD5QCazOQTUSkS0v7OQV3v8ndS919ODAF+Iu7fwmoACaHo00Dnkp3NhGRri6bvqcwE/immVUC/YFZGc4jItLlZOLwUcTdFwOLw+63gZMymUdEpKvLpj0FERHJMBUFERGJqCiIiEhERUFERCIqCiIiEsno1Uci6VJXV0dVVRU1NTVpW2ZRURGrVq1qfcQOkJ+fT2lpKd26dUvL8qTzUlGQLqGqqorCwkKGDx9OcP/F1Nu5cyeFhYUpX467s2XLFqqqqhgxYkTKlyedmw4fSZdQU1ND//7901YQ0snM6N+/f1r3gqTzUlGQLqMzFoRGnfl3k/RSURARkYiKgkiamBmXXnpp1F9fX8/AgQM577zzAJg/fz533HFHpuKJADrRLJI2vXv3ZsWKFezZs4eePXuycOFChgwZErWff/75nH/++RlMKKKiIF3Q9dfDK6907DyPOw5+8pPWxzv33HP57//+byZPnszcuXOZOnUqf/3rXwF4+OGHWbp0Kffddx/Tp0+nT58+LF26lPXr13PXXXcxefLkVuYucuB0+EgkjaZMmUJ5eTk1NTW89tprnHzyyS2Ou27dOp577jkWLFjAjTfemMaU0pVpT0G6nLb8R58qxxxzDO+++y5z587l3HPP3e+4F154ITk5OYwZM4YNGzakKaF0dSoKIml2/vnn8+1vf5vFixezZcuWFsfr0aNH1B08Vlck9dJeFMxsKPAIUAI48KC732tm/YB5wHDgXeBid9+W7nwiqXb55ZdTXFzM2LFjWbx4cabjiDSRiXMK9cC33H0McApwtZmNAW4EFrn7SGBR2C/S6ZSWlnLttddmOoZIQmnfU3D3dcC6sHunma0ChgAXABPC0eYQPKZzZrrziaRKdXX1PsMmTJjAhAkTAJg+fTrTp08HgiuRWptWJBUsk8cqzWw48CxwNPC+uxeHww3Y1tjfbJoZwAyAkpKSsvLy8qSWXV1dTUFBQXLBUyhbc0H2ZmtLrqKiIg4//PA0JQo0NDSQm5ubtuVVVlayffv2Vsf7JL+PmdAZc02cOHGZu49L2OjuGXkBBcAy4PNh/0fN2re1No+ysjJPVkVFRdLTplK25nLP3mxtyfXGG2+kPkgzO3bsSOvy2vo7fpLfx0zojLmApd7CdjUj31Mws27A74DfuPvvw8EbzGxw2D4Y2JiJbCIiXVnai0J4aGgWsMrdfxzXNB+YFnZPA55KdzYRka4uE99TOA34MvC6mTXebOBm4A7gUTO7AngPuDgD2UREurRMXH30HNDSzd/PTGcWERFpSvc+EkmT1m6dLZINVBRE0iT+1tnAPrfOFskGuveRdD0ZvHf2/m6d/eKLL3LddddRU1NDz549+dWvfsXo0aO55557eP3115k9ezavv/46U6dO5cUXX6RXr14d+zuIoD0FkbTa362zjzjiCP7617/y8ssvc9ttt3HzzTcDcN1111FZWckTTzzBZZddxgMPPKCCICmjPQXpejJ47+z93Tp7+/btTJs2jTVr1mBm1NXVAZCTk8PDDz/MMcccw1e/+lVOO+20TESXLkJ7CiJp1njr7KlTpzYZ/m//9m9MnDiRFStW8Ic//IGampqobc2aNRQUFPDhhx+mO650MSoKIml2+eWXc8sttzB27Ngmw7dv3x6deI6/Id727du59tprefbZZ9myZQuPP/54OuNKF6OiIJJmLd06+4YbbuCmm27i+OOPp76+Phr+jW98g6uvvppRo0Yxa9YsbrzxRjZu1F1gJDV0TkEkTVq7dfb48eNZvXp11PaDH/wAgNmzZ0fDhg4dSmVlZWqDSpemPQUREYmoKIiISERFQUREIjqnICIdY9cuiDtB3l651dXQhifHpVu25sqprU3JfFUURCR5e/fCk0/iDz2ELVp0QLP6VAdF6mjpzBUDdgIfAdvCnw5MDNsfAFYAg4FLp06Fs87q8AwqCiLSfm+9BQ89hM+Zg23eTF3pwWz5+mXU99vnsepttnP9TgoPKuzAkB2jI3OtXL+RV9du4N2tH/H+R9v5aE8NeTk5/NelnwfgivKnWPjW202mGVrch79ddwUAv/2v3/Pq2vWcOKyUc045hWEdkqopFQWRNHryySe56KKLWLVqFUcccUSm47RPTQ387nf4gw9izz6L5+Xx0VmfYvOXPs+OT50EubkHNPsNKzdQclRJB4XtOO3JtXnDZt5a+RZV71VR9U4VH7z7AevWruO3f/otubm5PDTz3/n9gj/TrXs3BpcOprh/XwYMGsDGGV8C4DNDDuKoqnUUFhXSp6gPhX0KKe5XzMYjDwfgR/9yCWZG7+69Wb9ifUp+XxUFkTSaO3cup59+OnPnzuV73/tepuO0zcqVwV7BI49g27ZRO3wom26+hi1fPI/6QQMynS4t3B0zY9P6Tax8dSVbN21l66atbNqwiar3qvjevd9jwKABzJ83n/vvvB+A/J75DB0+lGEjhrG7ejeFRYVcfu3lXPb1yxg0eBC5CYromZ/d/3PGgqcZp1bWFQUzmwTcC+QC/+nud2Q4knRCjV8Yi3fxxRdz1VVXsXv37n1uVgcwffp0pk+fzubNm5k8eXKTtsWLF7e6zOrqap577jkqKir43Oc+x/jx45k1axaPPfZYNI+7776bBQsWMGvWLO68806Ki4s59thj6dGjB/fdd19Sv2tSdu+GRx8NzhU8/zzerRvbzpnA5i99np2nlkHOJ/fCxYaGBvbs2kP1zmp2Ve9ix0c7OOSwQ+g3oB+Vb1by6K8eZevmYKO/ZfMWtmzYwn3l93Hcicfx0t9e4rvXfjeaV1FxEUOGD6F6RzUDBg3g7AvP5oRTTqB0eCn9B/bfZyN+0JCD0v3rtltWFQUzywV+DvwfoAp4yczmu/sbmU0mcuCeeuopJk2axKhRo+jfvz99+/ZlyZIl7Nq1i969ezNv3jymTJnChx9+yPe//32WL19OYWEhZ5xxBscee2zrC3CH2trg535YbW1wgjiRVauCvYLf/Abbvp29hw1n079dz9Yvfpb6/n2T+K1bFovFaKhvoKGhgZywyMRiMTat30R9fT11tXXU19dTX19Pv/79GDR4ELV7a1n+wnLq6+qpq6uLfo4+ejSHjT6MzRs3M+e+OVRXV7Nr5y52Ve9i185dTL9mOhMmTWDF8hVM/9z0fbL8+/3/zlkXnMX2bdupeKaCfgP70X9Af8aeMJYe9KBvv+B3P3Xiqfz6mV/Tb0A/+vbvS/ce3ZvMZ8iwIQwZ9sl+cJJ5Kx+gdDKz8cCt7n522H8TgLv/MNH448aN86VLl7Z7Oa/8ZDG/nnkFz8a2Nhmeh3F/wXEAzK55jxfqm7YXWh4/6h3cxOwXe97m5Yaml6kNtB7c3nsMAPfsqWRVw84m7aU5Pflur+A48g93r+ad2K4m7Yfl9OZb3Q8lLy+PW3avYl2spkn7Ubl9uK7nYQDcuGslW73pJWllecV8NX8EANdXv8ZuGpq0n5rXj+n5hwDwtepXaKDpe39Gt4FM6VFKnce4eterNHd27kC+0LOUnbE6vrV7xT7tF3U/mHO6l7Aptpfv7N63jk/tXsrE7gP5oGEP39/z5j7tl/U4hPHd+lHZUM1de9bs035l/ghOyCtmRf0Oflrzj2h446799fmHMSavD0vrtvHg3nebTHvnH+Zx/KBSelgu1V7PFq+l2a/PwTn5dDNjh9ezLVa3z/KH5OSTZ8Z2r+ejBO1Dc/PJwdjmdeyI1eM0fRj5N7/xDa6+5Mscd9KJ3D/316xbv55du3Zx8okncvYZZ3LOhRew/LGneOrFv7GgYhE/vPU2DPh1+Vzee/99fjXzZgxnncfYRSyarwHdgL2bN3PkOefwTWBZs2yHAY03y7gSWNmsfSxwf9g9xXJ4s6CIhkHFxArycYexZWO54Qc3AHDNJdewacMm3B2POe7O+E+P51u3fQuAfz7zn9nx0Q5iDTEaGhqIxWKcfeHZzLx9JgCnHnoqtXubfnYHl36VAf1uJ6dHHa++NHifdTvwoH+lZPAt1O7dwOo3DtunfcCg2+g/6FvU1b7Hu5XjycktJDe3kJzcPuTmFtJ/0JUUFZ1NfcMGtm6aRW5uIbl5fcjNK6R3QSGjjxrFqKMKOOTQGoYdupeBB9XR+E9+R5zrqKs11r7fnfffzuf9t3vw/jv5rH2/Bw1JXsGbm5PL6SdXcffdo5Oa3syWufu4RG1ZtacADAE+iOuvAk6OH8HMZgAzAEpKStq0297cptVrcG+gIdZ0o5lDDrG6YEPc0FC3T3u9WdReH6tP0F4fN/2+7Q3EtSeYvoF6LFZHrK6+hfa6psv3Zu0Nce3esE97rKE+bvoGYs22irFw+gaP7bNsAM8Jpo/5vtmC6WuD9lhtwvaGqL0mcXv9XmLUEIvtTTz/+lpiXkOsIUG7Q0PU3nz5BjhOUECC1z6zJ4bjbrjvUy8aFxG0tdAe83BJce0evrZv387/vrSElZVrcIO6hgbMjB989xbmPvYoffoUc/yYsfQo6EuMHBwjFn63NIYRw6jO7YMDe2N7qPePi5IDDeRSndOHn5V8h5d3LuLD+nVNsu3N7cu9RZ8DYMX2p9nYsKVJu+UN5N4+k1hfO5Antr5E7c4NsNPo1StGQWE9H7xVxGuLdjCoZA9FvYqw/kaO5YAFz3vondebDSs3AHDkqCOpra0lJycneOXmMKzkEF5ZuJNVbxQzbNiVbN6Uz0cf9SLYBOXi9UcTawDb242hQ+/BrBs5Od3JycnDrBv5+YfTM28vPfN6MWbM0+Tk5IWv7pjl0a3bAPLyduM+kEH9/vHx+xS+nwDuteTl9GPwoH9t0rZzWx5/mNeT2tqPj/Hn59dz8JDdDCmtZnBJAUOH7+HgIbsYUrqLwsLEW/JYDLZszmft2t6srQpfa3vzYVVv1q/vSSz28SG3Pn1qOfjgGrp3jyWcV+ti7NmzN6ntX2uybU9hMjDJ3f9v2P9l4GR3vybR+MnuKUBw/DbRceVMy9ZckL3Z2pJr1apVHHnkkekJFNq5cyeFhcGljA8++CDLli3jgQceiNo//elPc9tttzFt2jROPPFEvvjFL3LxxRezdu1aTjvtNF5++WUKCws588wzGTt2bKvnFNr6O7a2vrZtgyVL4Pnn4fnnnRdegF27gn+bB5bUMbasmmPGVXPsuF2MPno33Xvsuw2p2WO8+XovXl1awOvLevPa0kK2bg7+B+3TxznlFOPUU+HUU+Gkk6CoKLOfr1gMqqpg9eqPX2vWwOrVzttve5MNet/+9QwbUcPQETX0HVDPh+8H//l/8E4PavZ8PF6vXs6oUTBqlDFyJGE3jBwJ/fsfeOYDWV+fpD2FtcDQuP7ScJjIJ9rcuXOZOXNmk2Ff+MIXKC8v57zzzuPhhx9mzpw5AAwZMoSbb76Zk046iX79+nHEEUdQVFSUtqx9+8KkScELjPp6WLGisUh04+9/L+YvTwfH2Lv3iHHk2N0cM66aEaNqqFzVk9eWFfDW672oqwsKyciRzuc+GxSB8eNhzBg70KtXO1xODgwbFrw+85n4FmPhwmcZNuzTcQUjj9Wre7P8b73ZtAmGj4DRo4zPTfp4wz9qFBx8sJGGi4U6XLYVhZeAkWY2gqAYTAEuyWwkkQNXUVGxz7D4Zyo03wu45JJLmDFjBvX19Vx00UVceOGFKc/Ykrw8OO644HXVVQDG+vXw97/D88/n8PzzvZk3uze1tUZ+vnPiifDNb35cBAYO/ARuGeN06+aMHg2jmxy+D34ndz6RG/79yaqi4O71ZnYN8EeCS1Jnu3vzc2Iind6tt97Kn//8Z2pqajjrrLMyWhQSOegguOii4AXG3r3wzjtw6KFG9+6tTd15dLaCAFlWFADc/Wng6UznEMmku+++O9MR2qVHD/ikfUFbEvvkfgNFpJ2y6aKKjtaZfzdJLxUF6RLy8/PZsmVLp9x4ujtbtmwhPz8/01GkE8i6w0ciqVBaWkpVVRWbNm1K2zJramrStqHOz8+ntLQ0LcuSzk1FQbqEbt26MWLEiLQuc/HixRx//PFpXabIgdLhIxERiagoiIhIREVBREQiWXXvo/Yys03Ae0lOPgDY3IFxOkq25oLszaZc7aNc7dMZcx3i7gMTNXyii87mLasAAAefSURBVMKBMLOlLd0QKpOyNRdkbzblah/lap+ulkuHj0REJKKiICIika5cFB7MdIAWZGsuyN5sytU+ytU+XSpXlz2nICIi++rKewoiItKMioKIiEQ6fVEws0lm9paZVZrZjQnae5jZvLB9iZkNT0OmoWZWYWZvmNlKM7suwTgTzGy7mb0Svr6b6lzhct81s9fDZe7zAGwL/DRcX6+Z2QlpyDQ6bj28YmY7zOz6ZuOkbX2Z2Wwz22hmK+KG9TOzhWa2JvzZt4Vpp4XjrDGzaWnI9R9m9mb4Xj1hZsUtTLvf9z0FuW41s7Vx79e5LUy737/fFOSaF5fpXTN7pYVpU7K+Wto2pPXz5e6d9kXw9LZ/AIcC3YFXgTHNxrkK+GXYPQWYl4Zcg4ETwu5CYHWCXBOABRlYZ+8CA/bTfi7wDMHzCE8BlmTgPV1P8OWbjKwv4J+AE4AVccPuAm4Mu28E7kwwXT/g7fBn37C7b4pznQXkhd13JsrVlvc9BbluBb7dhvd6v3+/HZ2rWfuPgO+mc321tG1I5+ers+8pnARUuvvb7l4LlAMXNBvnAmBO2P04cKZZah+y5+7r3H152L0TWAUMSeUyO9AFwCMeeAEoNrPBaVz+mcA/3D3Zb7IfMHd/FtjabHD852gOkOj5mWcDC919q7tvAxYCk1KZy93/5O71Ye8LQNrvr93C+mqLtvz9piRXuA24GJjbUctrY6aWtg1p+3x19qIwBPggrr+KfTe+0TjhH892oH9a0gHh4arjgSUJmseb2atm9oyZHZWmSA78ycyWmdmMBO1tWaepNIWW/1Azsb4albj7urB7PVCSYJxMr7vLCfbyEmntfU+Fa8LDWrNbOBySyfX1KWCDu69poT3l66vZtiFtn6/OXhSympkVAL8Drnf3Hc2alxMcIjkW+BnwZJpine7uJwDnAFeb2T+labmtMrPuwPnAYwmaM7W+9uHBvnxWXettZt8B6oHftDBKut/3XwCHAccB6wgO1WSTqex/LyGl62t/24ZUf746e1FYCwyN6y8NhyUcx8zygCJgS6qDmVk3gjf9N+7+++bt7r7D3avD7qeBbmY2INW53H1t+HMj8ATBLny8tqzTVDkHWO7uG5o3ZGp9xdnQeBgt/LkxwTgZWXdmNh04D/hSuEHZRxve9w7l7hvcvcHdY8BDLSwvU+srD/g8MK+lcVK5vlrYNqTt89XZi8JLwEgzGxH+lzkFmN9snPlA41n6ycBfWvrD6Sjh8cpZwCp3/3EL4xzUeG7DzE4ieK9SWqzMrLeZFTZ2E5ykXNFstPnAVyxwCrA9brc21Vr87y0T66uZ+M/RNOCpBOP8ETjLzPqGh0vOCoeljJlNAm4Aznf33S2M05b3vaNzxZ+HuqiF5bXl7zcVPgO86e5ViRpTub72s21I3+ero8+eZ9uL4GqZ1QRXMXwnHHYbwR8JQD7B4YhK4EXg0DRkOp1g9+814JXwdS5wJXBlOM41wEqCKy5eAE5NQ65Dw+W9Gi67cX3F5zLg5+H6fB0Yl6b3sTfBRr4oblhG1hdBYVoH1BEct72C4DzUImAN8GegXzjuOOA/46a9PPysVQKXpSFXJcFx5sbPWeOVdgcDT+/vfU9xrl+Hn5/XCDZ4g5vnCvv3+ftNZa5w+MONn6u4cdOyvvazbUjb50u3uRARkUhnP3wkIiLtoKIgIiIRFQUREYmoKIiISERFQUREIioK0qWYWYmZ/dbM3g5vUfB3M7soQ1kmmNmpcf1XmtlXMpFFpFFepgOIpEv4xaAngTnufkk47BCCW2ekapl5/vEN6ZqbAFQDzwO4+y9TlUOkrfQ9BekyzOxMglshfzpBWy5wB8GGugfwc3d/wMwmENzmeTNwNLAMuNTd3czKgB8DBWH7dHdfZ2aLCb50dDrBF6RWA/+P4PbPW4AvAT0JvmTXAGwCvk5wB9hqd7/bzI4Dfgn0Ivji1uXuvi2c9xJgIlBM8IWrv3bcWpKuToePpCs5iuDGeYlcQXDLjhOBE4F/MbMRYdvxwPUE97U/FDgtvD/Nz4DJ7l4GzAZuj5tfd3cf5+4/Ap4DTnH34wlu/3yDu79LsNG/x92PS7BhfwSY6e7HEHzz95a4tjx3PynMdAsiHUiHj6TLMrOfE/w3Xwu8BxxjZpPD5iJgZNj2oof3wQmfxDUc+Ihgz2FheMulXIJbJjSKv5laKTAvvN9Pd+CdVnIVAcXu/r/hoDk0vTNs403SloVZRDqMioJ0JSuBLzT2uPvV4Z1UlwLvA1939yY3EAsPH+2NG9RA8HdjwEp3H9/CsnbFdf8M+LG7z487HHUgGvM0ZhHpMDp8JF3JX4B8M/ta3LBe4c8/Al8LDwthZqPCO2C25C1goJmND8fvtp8H+xTx8S2M45+bu5PgkYtNuPt2YJuZfSoc9GXgf5uPJ5IK+i9Duozw5PCFwD1mdgPBCd5dwEyCwzPDgeXhVUqbSPzIw8Z51YaHmn4aHu7JA35CsDfS3K3AY2a2jaAwNZ6r+APwuJldQHCiOd404Jdm1ovgWbuXtf83Fmk/XX0kIiIRHT4SEZGIioKIiERUFEREJKKiICIiERUFERGJqCiIiEhERUFERCL/H5/XAGSMhPr6AAAAAElFTkSuQmCC)"
      ],
      "metadata": {
        "id": "BMwwLt0Ukuyo"
      },
      "id": "BMwwLt0Ukuyo"
    },
    {
      "cell_type": "markdown",
      "source": [
        "Podemos concluir que los **máximos** de la función \"picos\"\n",
        "\n",
        "\n",
        "$$z = f(x,y) = 3(1-x)^2e^{-(x^2)-(y+1)^2}-10(x/5-x^3-y^5)e^{-x^2-y^2}-1/3e^{-(x+1)^2-y^2}$$\n",
        "\n",
        "\n",
        "En el dominio \n",
        "\n",
        "$$\\{x,y\\} \\in [-100,100]$$\n",
        "\n",
        "\n",
        "El método de cruce que mejores resultados produce es aquel de solo un punto de cruce puesto que su mejor fitness (que representa un punto máximo de la función) tiene un valor de 7.413065, y puesto que nuestro objetivo es encontrar los máximos de la función es el método que mejor cumple la función que buscamos. "
      ],
      "metadata": {
        "id": "jntTmqJxccz7"
      },
      "id": "jntTmqJxccz7"
    }
  ],
  "metadata": {
    "kernelspec": {
      "display_name": "Python 3 (ipykernel)",
      "language": "python",
      "name": "python3"
    },
    "language_info": {
      "codemirror_mode": {
        "name": "ipython",
        "version": 3
      },
      "file_extension": ".py",
      "mimetype": "text/x-python",
      "name": "python",
      "nbconvert_exporter": "python",
      "pygments_lexer": "ipython3",
      "version": "3.8.8"
    },
    "colab": {
      "provenance": []
    },
    "accelerator": "GPU",
    "gpuClass": "standard"
  },
  "nbformat": 4,
  "nbformat_minor": 5
}